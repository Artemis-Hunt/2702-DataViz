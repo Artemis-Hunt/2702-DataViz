{
 "cells": [
  {
   "cell_type": "markdown",
   "id": "5da99235",
   "metadata": {},
   "source": [
    "## 1. Import modules & csv files"
   ]
  },
  {
   "cell_type": "code",
   "execution_count": 139,
   "id": "a68e42c2",
   "metadata": {},
   "outputs": [
    {
     "name": "stdout",
     "output_type": "stream",
     "text": [
      "Total number of entries: 438557\n"
     ]
    },
    {
     "data": {
      "text/html": [
       "<div>\n",
       "<style scoped>\n",
       "    .dataframe tbody tr th:only-of-type {\n",
       "        vertical-align: middle;\n",
       "    }\n",
       "\n",
       "    .dataframe tbody tr th {\n",
       "        vertical-align: top;\n",
       "    }\n",
       "\n",
       "    .dataframe thead th {\n",
       "        text-align: right;\n",
       "    }\n",
       "</style>\n",
       "<table border=\"1\" class=\"dataframe\">\n",
       "  <thead>\n",
       "    <tr style=\"text-align: right;\">\n",
       "      <th></th>\n",
       "      <th>ID</th>\n",
       "      <th>CODE_GENDER</th>\n",
       "      <th>FLAG_OWN_CAR</th>\n",
       "      <th>FLAG_OWN_REALTY</th>\n",
       "      <th>CNT_CHILDREN</th>\n",
       "      <th>AMT_INCOME_TOTAL</th>\n",
       "      <th>NAME_INCOME_TYPE</th>\n",
       "      <th>NAME_EDUCATION_TYPE</th>\n",
       "      <th>NAME_FAMILY_STATUS</th>\n",
       "      <th>NAME_HOUSING_TYPE</th>\n",
       "      <th>DAYS_BIRTH</th>\n",
       "      <th>DAYS_EMPLOYED</th>\n",
       "      <th>FLAG_MOBIL</th>\n",
       "      <th>FLAG_WORK_PHONE</th>\n",
       "      <th>FLAG_PHONE</th>\n",
       "      <th>FLAG_EMAIL</th>\n",
       "      <th>OCCUPATION_TYPE</th>\n",
       "      <th>CNT_FAM_MEMBERS</th>\n",
       "    </tr>\n",
       "  </thead>\n",
       "  <tbody>\n",
       "    <tr>\n",
       "      <th>0</th>\n",
       "      <td>5008804</td>\n",
       "      <td>M</td>\n",
       "      <td>Y</td>\n",
       "      <td>Y</td>\n",
       "      <td>0</td>\n",
       "      <td>427500.0</td>\n",
       "      <td>Working</td>\n",
       "      <td>Higher education</td>\n",
       "      <td>Civil marriage</td>\n",
       "      <td>Rented apartment</td>\n",
       "      <td>-12005</td>\n",
       "      <td>-4542</td>\n",
       "      <td>1</td>\n",
       "      <td>1</td>\n",
       "      <td>0</td>\n",
       "      <td>0</td>\n",
       "      <td>NaN</td>\n",
       "      <td>2.0</td>\n",
       "    </tr>\n",
       "    <tr>\n",
       "      <th>1</th>\n",
       "      <td>5008805</td>\n",
       "      <td>M</td>\n",
       "      <td>Y</td>\n",
       "      <td>Y</td>\n",
       "      <td>0</td>\n",
       "      <td>427500.0</td>\n",
       "      <td>Working</td>\n",
       "      <td>Higher education</td>\n",
       "      <td>Civil marriage</td>\n",
       "      <td>Rented apartment</td>\n",
       "      <td>-12005</td>\n",
       "      <td>-4542</td>\n",
       "      <td>1</td>\n",
       "      <td>1</td>\n",
       "      <td>0</td>\n",
       "      <td>0</td>\n",
       "      <td>NaN</td>\n",
       "      <td>2.0</td>\n",
       "    </tr>\n",
       "    <tr>\n",
       "      <th>2</th>\n",
       "      <td>5008806</td>\n",
       "      <td>M</td>\n",
       "      <td>Y</td>\n",
       "      <td>Y</td>\n",
       "      <td>0</td>\n",
       "      <td>112500.0</td>\n",
       "      <td>Working</td>\n",
       "      <td>Secondary / secondary special</td>\n",
       "      <td>Married</td>\n",
       "      <td>House / apartment</td>\n",
       "      <td>-21474</td>\n",
       "      <td>-1134</td>\n",
       "      <td>1</td>\n",
       "      <td>0</td>\n",
       "      <td>0</td>\n",
       "      <td>0</td>\n",
       "      <td>Security staff</td>\n",
       "      <td>2.0</td>\n",
       "    </tr>\n",
       "    <tr>\n",
       "      <th>3</th>\n",
       "      <td>5008808</td>\n",
       "      <td>F</td>\n",
       "      <td>N</td>\n",
       "      <td>Y</td>\n",
       "      <td>0</td>\n",
       "      <td>270000.0</td>\n",
       "      <td>Commercial associate</td>\n",
       "      <td>Secondary / secondary special</td>\n",
       "      <td>Single / not married</td>\n",
       "      <td>House / apartment</td>\n",
       "      <td>-19110</td>\n",
       "      <td>-3051</td>\n",
       "      <td>1</td>\n",
       "      <td>0</td>\n",
       "      <td>1</td>\n",
       "      <td>1</td>\n",
       "      <td>Sales staff</td>\n",
       "      <td>1.0</td>\n",
       "    </tr>\n",
       "    <tr>\n",
       "      <th>4</th>\n",
       "      <td>5008809</td>\n",
       "      <td>F</td>\n",
       "      <td>N</td>\n",
       "      <td>Y</td>\n",
       "      <td>0</td>\n",
       "      <td>270000.0</td>\n",
       "      <td>Commercial associate</td>\n",
       "      <td>Secondary / secondary special</td>\n",
       "      <td>Single / not married</td>\n",
       "      <td>House / apartment</td>\n",
       "      <td>-19110</td>\n",
       "      <td>-3051</td>\n",
       "      <td>1</td>\n",
       "      <td>0</td>\n",
       "      <td>1</td>\n",
       "      <td>1</td>\n",
       "      <td>Sales staff</td>\n",
       "      <td>1.0</td>\n",
       "    </tr>\n",
       "  </tbody>\n",
       "</table>\n",
       "</div>"
      ],
      "text/plain": [
       "        ID CODE_GENDER FLAG_OWN_CAR FLAG_OWN_REALTY  CNT_CHILDREN  \\\n",
       "0  5008804           M            Y               Y             0   \n",
       "1  5008805           M            Y               Y             0   \n",
       "2  5008806           M            Y               Y             0   \n",
       "3  5008808           F            N               Y             0   \n",
       "4  5008809           F            N               Y             0   \n",
       "\n",
       "   AMT_INCOME_TOTAL      NAME_INCOME_TYPE            NAME_EDUCATION_TYPE  \\\n",
       "0          427500.0               Working               Higher education   \n",
       "1          427500.0               Working               Higher education   \n",
       "2          112500.0               Working  Secondary / secondary special   \n",
       "3          270000.0  Commercial associate  Secondary / secondary special   \n",
       "4          270000.0  Commercial associate  Secondary / secondary special   \n",
       "\n",
       "     NAME_FAMILY_STATUS  NAME_HOUSING_TYPE  DAYS_BIRTH  DAYS_EMPLOYED  \\\n",
       "0        Civil marriage   Rented apartment      -12005          -4542   \n",
       "1        Civil marriage   Rented apartment      -12005          -4542   \n",
       "2               Married  House / apartment      -21474          -1134   \n",
       "3  Single / not married  House / apartment      -19110          -3051   \n",
       "4  Single / not married  House / apartment      -19110          -3051   \n",
       "\n",
       "   FLAG_MOBIL  FLAG_WORK_PHONE  FLAG_PHONE  FLAG_EMAIL OCCUPATION_TYPE  \\\n",
       "0           1                1           0           0             NaN   \n",
       "1           1                1           0           0             NaN   \n",
       "2           1                0           0           0  Security staff   \n",
       "3           1                0           1           1     Sales staff   \n",
       "4           1                0           1           1     Sales staff   \n",
       "\n",
       "   CNT_FAM_MEMBERS  \n",
       "0              2.0  \n",
       "1              2.0  \n",
       "2              2.0  \n",
       "3              1.0  \n",
       "4              1.0  "
      ]
     },
     "execution_count": 139,
     "metadata": {},
     "output_type": "execute_result"
    }
   ],
   "source": [
    "import pandas as pd\n",
    "import matplotlib.pyplot as plt\n",
    "import numpy as np\n",
    "\n",
    "\n",
    "applications = pd.read_csv(\"application_record.csv\")\n",
    "credit_hist = pd.read_csv(\"credit_record.csv\")\n",
    "print(f\"Total number of entries: {applications.shape[0]}\")\n",
    "applications.head()"
   ]
  },
  {
   "cell_type": "code",
   "execution_count": 240,
   "id": "aca76b36",
   "metadata": {},
   "outputs": [],
   "source": [
    "def remove_outlier_df(df_in, col_names):\n",
    "    '''\n",
    "    Remove outliers in a given column from a Pandas dataframe\n",
    "    Note: Removes the entry corresponding to outlier.\n",
    "    Uses +- 1.5 IQR as criteria\n",
    "    Warning: Modifies the input directly!\n",
    "    '''\n",
    "    if(isinstance(col_names, list)):\n",
    "        for col in col_names:\n",
    "            q1 = df_in[col].quantile(0.25)\n",
    "            q3 = df_in[col].quantile(0.75)\n",
    "            iqr = q3-q1\n",
    "            low  = q1-1.5*iqr\n",
    "            high = q3+1.5*iqr\n",
    "            df_in.drop(df_in[(df_in[col] < low) | (df_in[col] > high)].index, inplace=True)\n",
    "    elif isinstance(col_names, str):\n",
    "        q1 = df_in[col_names].quantile(0.25)\n",
    "        q3 = df_in[col_names].quantile(0.75)\n",
    "        iqr = q3-q1\n",
    "        low  = q1-1.5*iqr\n",
    "        high = q3+1.5*iqr\n",
    "        df_in.drop(df_in[(df_in[col_names] < low) | (df_in[col_names] > high)].index, inplace=True)\n",
    "\n",
    "\n",
    "def remove_outlier_series(series_in):\n",
    "    '''\n",
    "    Removes outliers from a pandas series\n",
    "    +- 1.5 IQR as outlier criteria\n",
    "    Warning: Modifies the input directly!\n",
    "    '''\n",
    "    q1 = series_in.quantile(0.25)\n",
    "    q3 = series_in.quantile(0.75)\n",
    "    iqr = q3-q1\n",
    "    low  = q1-1.5*iqr\n",
    "    high = q3+1.5*iqr\n",
    "    series.drop(series_in[(series_in < fence_low) | (series_in > fence_high)], inplace=True)"
   ]
  },
  {
   "cell_type": "markdown",
   "id": "7f8d941f",
   "metadata": {},
   "source": [
    "## 2. Pre-processing of application records\n",
    "Pre-processing done:\n",
    "- Remove duplicates\n",
    "- Remove outliers"
   ]
  },
  {
   "cell_type": "code",
   "execution_count": 140,
   "id": "b0064b61",
   "metadata": {},
   "outputs": [],
   "source": [
    "#Remove duplicate IDs, keep first occurence of that ID\n",
    "applications.drop_duplicates(\"ID\", keep=\"first\", inplace=True)"
   ]
  },
  {
   "cell_type": "markdown",
   "id": "5cc1505c",
   "metadata": {},
   "source": [
    "### 2.1 Visualize some key variables"
   ]
  },
  {
   "cell_type": "code",
   "execution_count": 141,
   "id": "abf3efa8",
   "metadata": {
    "scrolled": false
   },
   "outputs": [
    {
     "data": {
      "text/plain": [
       "Text(0.5, 1.0, 'Number of family members')"
      ]
     },
     "execution_count": 141,
     "metadata": {},
     "output_type": "execute_result"
    },
    {
     "data": {
      "image/png": "[encoded data removed]",
      "text/plain": [
       "<Figure size 1080x1800 with 8 Axes>"
      ]
     },
     "metadata": {
      "needs_background": "light"
     },
     "output_type": "display_data"
    }
   ],
   "source": [
    "fig, axs = plt.subplots(4, 2,figsize=(15,25))\n",
    "# for ax in axs.flat:\n",
    "#     ax.set(xlabel=\"ID\")\n",
    "\n",
    "x = applications[\"ID\"]\n",
    "income_types = applications[\"NAME_INCOME_TYPE\"].value_counts()\n",
    "educ_types = applications[\"NAME_EDUCATION_TYPE\"].value_counts()\n",
    "family_statuses = applications[\"NAME_FAMILY_STATUS\"].value_counts()\n",
    "occupation_types = applications[\"OCCUPATION_TYPE\"].value_counts()\n",
    "\n",
    "\n",
    "axs[0,0].scatter(x, applications[\"CNT_CHILDREN\"], alpha=0.3)\n",
    "axs[0,0].set_title(\"Number of children\")\n",
    "axs[0,1].scatter(x, applications[\"AMT_INCOME_TOTAL\"], alpha=0.3)\n",
    "axs[0,1].set_title(\"Annual income\")\n",
    "\n",
    "income_type_bar = axs[1,0].bar(income_types.keys(), income_types)\n",
    "axs[1,0].bar_label(income_type_bar)\n",
    "axs[1,0].set_title(\"Income type\")\n",
    "\n",
    "educ_types_bar = axs[1,1].bar(educ_types.keys(), educ_types)\n",
    "axs[1,1].bar_label(educ_types_bar)\n",
    "axs[1,1].set_title(\"Education type\")\n",
    "\n",
    "family_statuses_bar = axs[2,0].bar(family_statuses.keys(), family_statuses)\n",
    "axs[2,0].bar_label(family_statuses_bar)\n",
    "axs[2,0].set_title(\"Family status\")\n",
    "\n",
    "axs[2,1].scatter(x, applications[\"DAYS_BIRTH\"], alpha=0.3)\n",
    "axs[2,1].set_title(\"Days birth\")\n",
    "axs[3,0].boxplot(applications[\"DAYS_EMPLOYED\"])\n",
    "axs[3,0].set_title(\"Days employed\")\n",
    "\n",
    "# occupation_types_bar = axs[3,1].bar(occupation_types.keys(), occupation_types)\n",
    "# axs[3,1].bar_label(occupation_types_bar)\n",
    "# axs[3,1].set_title(\"Occupation type\")\n",
    "axs[3,1].scatter(x, applications[\"CNT_FAM_MEMBERS\"], alpha=0.3)\n",
    "axs[3,1].set_title(\"Number of family members\")"
   ]
  },
  {
   "cell_type": "code",
   "execution_count": 233,
   "id": "e140a88c",
   "metadata": {},
   "outputs": [
    {
     "data": {
      "text/plain": [
       "75324"
      ]
     },
     "execution_count": 233,
     "metadata": {},
     "output_type": "execute_result"
    }
   ],
   "source": [
    "applications.loc[applications[\"DAYS_EMPLOYED\"] > 0].shape[0]"
   ]
  },
  {
   "cell_type": "markdown",
   "id": "b692205e",
   "metadata": {},
   "source": [
    "From the above, there seems to be outliers in number of children, annual income, number of family members and days employed.\n",
    "\n",
    "We will drop outlier entries for the former 3.\n",
    "\n",
    "For days employed, we will drop the column entirely, as many entries seem to be misrecorded with value 365243."
   ]
  },
  {
   "cell_type": "code",
   "execution_count": 142,
   "id": "3b51c0af",
   "metadata": {
    "scrolled": false
   },
   "outputs": [
    {
     "data": {
      "text/plain": [
       "Text(0.5, 1.0, 'Occupation type')"
      ]
     },
     "execution_count": 142,
     "metadata": {},
     "output_type": "execute_result"
    },
    {
     "data": {
      "image/png": "[encoded data removed]",
      "text/plain": [
       "<Figure size 1440x1080 with 3 Axes>"
      ]
     },
     "metadata": {
      "needs_background": "light"
     },
     "output_type": "display_data"
    }
   ],
   "source": [
    "fig, axs = plt.subplots(3,1, figsize=(20,15))\n",
    "occupation_types_bar = axs[0].bar(occupation_types.keys(), occupation_types, width=0.5)\n",
    "axs[0].bar_label(occupation_types_bar)\n",
    "axs[0].tick_params(rotation=18)\n",
    "axs[0].set_title(\"Occupation type\")"
   ]
  },
  {
   "cell_type": "code",
   "execution_count": 238,
   "id": "593f1dd8",
   "metadata": {},
   "outputs": [],
   "source": [
    "applications.drop(\"DAYS_EMPLOYED\", axis=1, inplace=True)"
   ]
  },
  {
   "cell_type": "code",
   "execution_count": null,
   "id": "0e7f82b9",
   "metadata": {},
   "outputs": [],
   "source": [
    "# Remove outliers\n",
    "remove_outlier_df(apps, \"AMT_INCOME_TOTAL\")\n",
    "\n",
    "\n",
    "apps.head()"
   ]
  },
  {
   "cell_type": "code",
   "execution_count": 146,
   "id": "1610fb1e",
   "metadata": {},
   "outputs": [
    {
     "data": {
      "text/html": [
       "<div>\n",
       "<style scoped>\n",
       "    .dataframe tbody tr th:only-of-type {\n",
       "        vertical-align: middle;\n",
       "    }\n",
       "\n",
       "    .dataframe tbody tr th {\n",
       "        vertical-align: top;\n",
       "    }\n",
       "\n",
       "    .dataframe thead th {\n",
       "        text-align: right;\n",
       "    }\n",
       "</style>\n",
       "<table border=\"1\" class=\"dataframe\">\n",
       "  <thead>\n",
       "    <tr style=\"text-align: right;\">\n",
       "      <th></th>\n",
       "      <th>ID</th>\n",
       "      <th>CODE_GENDER</th>\n",
       "      <th>FLAG_OWN_CAR</th>\n",
       "      <th>FLAG_OWN_REALTY</th>\n",
       "      <th>CNT_CHILDREN</th>\n",
       "      <th>AMT_INCOME_TOTAL</th>\n",
       "      <th>NAME_INCOME_TYPE</th>\n",
       "      <th>NAME_EDUCATION_TYPE</th>\n",
       "      <th>NAME_FAMILY_STATUS</th>\n",
       "      <th>NAME_HOUSING_TYPE</th>\n",
       "      <th>DAYS_BIRTH</th>\n",
       "      <th>DAYS_EMPLOYED</th>\n",
       "      <th>FLAG_MOBIL</th>\n",
       "      <th>FLAG_WORK_PHONE</th>\n",
       "      <th>FLAG_PHONE</th>\n",
       "      <th>FLAG_EMAIL</th>\n",
       "      <th>OCCUPATION_TYPE</th>\n",
       "      <th>CNT_FAM_MEMBERS</th>\n",
       "    </tr>\n",
       "  </thead>\n",
       "  <tbody>\n",
       "    <tr>\n",
       "      <th>0</th>\n",
       "      <td>5008804</td>\n",
       "      <td>M</td>\n",
       "      <td>Y</td>\n",
       "      <td>Y</td>\n",
       "      <td>0</td>\n",
       "      <td>427500.0</td>\n",
       "      <td>Working</td>\n",
       "      <td>Higher education</td>\n",
       "      <td>Civil marriage</td>\n",
       "      <td>Rented apartment</td>\n",
       "      <td>-12005</td>\n",
       "      <td>-4542</td>\n",
       "      <td>1</td>\n",
       "      <td>1</td>\n",
       "      <td>0</td>\n",
       "      <td>0</td>\n",
       "      <td>NaN</td>\n",
       "      <td>2.0</td>\n",
       "    </tr>\n",
       "    <tr>\n",
       "      <th>1</th>\n",
       "      <td>5008805</td>\n",
       "      <td>M</td>\n",
       "      <td>Y</td>\n",
       "      <td>Y</td>\n",
       "      <td>0</td>\n",
       "      <td>427500.0</td>\n",
       "      <td>Working</td>\n",
       "      <td>Higher education</td>\n",
       "      <td>Civil marriage</td>\n",
       "      <td>Rented apartment</td>\n",
       "      <td>-12005</td>\n",
       "      <td>-4542</td>\n",
       "      <td>1</td>\n",
       "      <td>1</td>\n",
       "      <td>0</td>\n",
       "      <td>0</td>\n",
       "      <td>NaN</td>\n",
       "      <td>2.0</td>\n",
       "    </tr>\n",
       "    <tr>\n",
       "      <th>2</th>\n",
       "      <td>5008806</td>\n",
       "      <td>M</td>\n",
       "      <td>Y</td>\n",
       "      <td>Y</td>\n",
       "      <td>0</td>\n",
       "      <td>112500.0</td>\n",
       "      <td>Working</td>\n",
       "      <td>Secondary / secondary special</td>\n",
       "      <td>Married</td>\n",
       "      <td>House / apartment</td>\n",
       "      <td>-21474</td>\n",
       "      <td>-1134</td>\n",
       "      <td>1</td>\n",
       "      <td>0</td>\n",
       "      <td>0</td>\n",
       "      <td>0</td>\n",
       "      <td>Security staff</td>\n",
       "      <td>2.0</td>\n",
       "    </tr>\n",
       "    <tr>\n",
       "      <th>3</th>\n",
       "      <td>5008808</td>\n",
       "      <td>F</td>\n",
       "      <td>N</td>\n",
       "      <td>Y</td>\n",
       "      <td>0</td>\n",
       "      <td>270000.0</td>\n",
       "      <td>Commercial associate</td>\n",
       "      <td>Secondary / secondary special</td>\n",
       "      <td>Single / not married</td>\n",
       "      <td>House / apartment</td>\n",
       "      <td>-19110</td>\n",
       "      <td>-3051</td>\n",
       "      <td>1</td>\n",
       "      <td>0</td>\n",
       "      <td>1</td>\n",
       "      <td>1</td>\n",
       "      <td>Sales staff</td>\n",
       "      <td>1.0</td>\n",
       "    </tr>\n",
       "    <tr>\n",
       "      <th>4</th>\n",
       "      <td>5008809</td>\n",
       "      <td>F</td>\n",
       "      <td>N</td>\n",
       "      <td>Y</td>\n",
       "      <td>0</td>\n",
       "      <td>270000.0</td>\n",
       "      <td>Commercial associate</td>\n",
       "      <td>Secondary / secondary special</td>\n",
       "      <td>Single / not married</td>\n",
       "      <td>House / apartment</td>\n",
       "      <td>-19110</td>\n",
       "      <td>-3051</td>\n",
       "      <td>1</td>\n",
       "      <td>0</td>\n",
       "      <td>1</td>\n",
       "      <td>1</td>\n",
       "      <td>Sales staff</td>\n",
       "      <td>1.0</td>\n",
       "    </tr>\n",
       "  </tbody>\n",
       "</table>\n",
       "</div>"
      ],
      "text/plain": [
       "        ID CODE_GENDER FLAG_OWN_CAR FLAG_OWN_REALTY  CNT_CHILDREN  \\\n",
       "0  5008804           M            Y               Y             0   \n",
       "1  5008805           M            Y               Y             0   \n",
       "2  5008806           M            Y               Y             0   \n",
       "3  5008808           F            N               Y             0   \n",
       "4  5008809           F            N               Y             0   \n",
       "\n",
       "   AMT_INCOME_TOTAL      NAME_INCOME_TYPE            NAME_EDUCATION_TYPE  \\\n",
       "0          427500.0               Working               Higher education   \n",
       "1          427500.0               Working               Higher education   \n",
       "2          112500.0               Working  Secondary / secondary special   \n",
       "3          270000.0  Commercial associate  Secondary / secondary special   \n",
       "4          270000.0  Commercial associate  Secondary / secondary special   \n",
       "\n",
       "     NAME_FAMILY_STATUS  NAME_HOUSING_TYPE  DAYS_BIRTH  DAYS_EMPLOYED  \\\n",
       "0        Civil marriage   Rented apartment      -12005          -4542   \n",
       "1        Civil marriage   Rented apartment      -12005          -4542   \n",
       "2               Married  House / apartment      -21474          -1134   \n",
       "3  Single / not married  House / apartment      -19110          -3051   \n",
       "4  Single / not married  House / apartment      -19110          -3051   \n",
       "\n",
       "   FLAG_MOBIL  FLAG_WORK_PHONE  FLAG_PHONE  FLAG_EMAIL OCCUPATION_TYPE  \\\n",
       "0           1                1           0           0             NaN   \n",
       "1           1                1           0           0             NaN   \n",
       "2           1                0           0           0  Security staff   \n",
       "3           1                0           1           1     Sales staff   \n",
       "4           1                0           1           1     Sales staff   \n",
       "\n",
       "   CNT_FAM_MEMBERS  \n",
       "0              2.0  \n",
       "1              2.0  \n",
       "2              2.0  \n",
       "3              1.0  \n",
       "4              1.0  "
      ]
     },
     "execution_count": 146,
     "metadata": {},
     "output_type": "execute_result"
    }
   ],
   "source": [
    "applications.head()"
   ]
  },
  {
   "cell_type": "code",
   "execution_count": 147,
   "id": "bf452a73",
   "metadata": {},
   "outputs": [
    {
     "name": "stdout",
     "output_type": "stream",
     "text": [
      "<class 'pandas.core.frame.DataFrame'>\n",
      "Int64Index: 438510 entries, 0 to 438556\n",
      "Data columns (total 18 columns):\n",
      " #   Column               Non-Null Count   Dtype  \n",
      "---  ------               --------------   -----  \n",
      " 0   ID                   438510 non-null  int64  \n",
      " 1   CODE_GENDER          438510 non-null  object \n",
      " 2   FLAG_OWN_CAR         438510 non-null  object \n",
      " 3   FLAG_OWN_REALTY      438510 non-null  object \n",
      " 4   CNT_CHILDREN         438510 non-null  int64  \n",
      " 5   AMT_INCOME_TOTAL     438510 non-null  float64\n",
      " 6   NAME_INCOME_TYPE     438510 non-null  object \n",
      " 7   NAME_EDUCATION_TYPE  438510 non-null  object \n",
      " 8   NAME_FAMILY_STATUS   438510 non-null  object \n",
      " 9   NAME_HOUSING_TYPE    438510 non-null  object \n",
      " 10  DAYS_BIRTH           438510 non-null  int64  \n",
      " 11  DAYS_EMPLOYED        438510 non-null  int64  \n",
      " 12  FLAG_MOBIL           438510 non-null  int64  \n",
      " 13  FLAG_WORK_PHONE      438510 non-null  int64  \n",
      " 14  FLAG_PHONE           438510 non-null  int64  \n",
      " 15  FLAG_EMAIL           438510 non-null  int64  \n",
      " 16  OCCUPATION_TYPE      304317 non-null  object \n",
      " 17  CNT_FAM_MEMBERS      438510 non-null  float64\n",
      "dtypes: float64(2), int64(8), object(8)\n",
      "memory usage: 63.6+ MB\n"
     ]
    }
   ],
   "source": [
    "applications.info()"
   ]
  },
  {
   "cell_type": "code",
   "execution_count": 228,
   "id": "a5a477a0",
   "metadata": {
    "scrolled": true
   },
   "outputs": [
    {
     "data": {
      "text/html": [
       "<div>\n",
       "<style scoped>\n",
       "    .dataframe tbody tr th:only-of-type {\n",
       "        vertical-align: middle;\n",
       "    }\n",
       "\n",
       "    .dataframe tbody tr th {\n",
       "        vertical-align: top;\n",
       "    }\n",
       "\n",
       "    .dataframe thead th {\n",
       "        text-align: right;\n",
       "    }\n",
       "</style>\n",
       "<table border=\"1\" class=\"dataframe\">\n",
       "  <thead>\n",
       "    <tr style=\"text-align: right;\">\n",
       "      <th></th>\n",
       "      <th>ID</th>\n",
       "      <th>CODE_GENDER</th>\n",
       "      <th>FLAG_OWN_CAR</th>\n",
       "      <th>FLAG_OWN_REALTY</th>\n",
       "      <th>CNT_CHILDREN</th>\n",
       "      <th>AMT_INCOME_TOTAL</th>\n",
       "      <th>NAME_INCOME_TYPE</th>\n",
       "      <th>NAME_EDUCATION_TYPE</th>\n",
       "      <th>NAME_FAMILY_STATUS</th>\n",
       "      <th>NAME_HOUSING_TYPE</th>\n",
       "      <th>DAYS_BIRTH</th>\n",
       "      <th>DAYS_EMPLOYED</th>\n",
       "      <th>FLAG_MOBIL</th>\n",
       "      <th>FLAG_WORK_PHONE</th>\n",
       "      <th>FLAG_PHONE</th>\n",
       "      <th>FLAG_EMAIL</th>\n",
       "      <th>OCCUPATION_TYPE</th>\n",
       "      <th>CNT_FAM_MEMBERS</th>\n",
       "    </tr>\n",
       "  </thead>\n",
       "  <tbody>\n",
       "    <tr>\n",
       "      <th>2</th>\n",
       "      <td>5008806</td>\n",
       "      <td>M</td>\n",
       "      <td>Y</td>\n",
       "      <td>Y</td>\n",
       "      <td>0</td>\n",
       "      <td>112500.0</td>\n",
       "      <td>Working</td>\n",
       "      <td>Secondary / secondary special</td>\n",
       "      <td>Married</td>\n",
       "      <td>House / apartment</td>\n",
       "      <td>-21474</td>\n",
       "      <td>-1134</td>\n",
       "      <td>1</td>\n",
       "      <td>0</td>\n",
       "      <td>0</td>\n",
       "      <td>0</td>\n",
       "      <td>Security staff</td>\n",
       "      <td>2.0</td>\n",
       "    </tr>\n",
       "    <tr>\n",
       "      <th>3</th>\n",
       "      <td>5008808</td>\n",
       "      <td>F</td>\n",
       "      <td>N</td>\n",
       "      <td>Y</td>\n",
       "      <td>0</td>\n",
       "      <td>270000.0</td>\n",
       "      <td>Commercial associate</td>\n",
       "      <td>Secondary / secondary special</td>\n",
       "      <td>Single / not married</td>\n",
       "      <td>House / apartment</td>\n",
       "      <td>-19110</td>\n",
       "      <td>-3051</td>\n",
       "      <td>1</td>\n",
       "      <td>0</td>\n",
       "      <td>1</td>\n",
       "      <td>1</td>\n",
       "      <td>Sales staff</td>\n",
       "      <td>1.0</td>\n",
       "    </tr>\n",
       "    <tr>\n",
       "      <th>4</th>\n",
       "      <td>5008809</td>\n",
       "      <td>F</td>\n",
       "      <td>N</td>\n",
       "      <td>Y</td>\n",
       "      <td>0</td>\n",
       "      <td>270000.0</td>\n",
       "      <td>Commercial associate</td>\n",
       "      <td>Secondary / secondary special</td>\n",
       "      <td>Single / not married</td>\n",
       "      <td>House / apartment</td>\n",
       "      <td>-19110</td>\n",
       "      <td>-3051</td>\n",
       "      <td>1</td>\n",
       "      <td>0</td>\n",
       "      <td>1</td>\n",
       "      <td>1</td>\n",
       "      <td>Sales staff</td>\n",
       "      <td>1.0</td>\n",
       "    </tr>\n",
       "    <tr>\n",
       "      <th>5</th>\n",
       "      <td>5008810</td>\n",
       "      <td>F</td>\n",
       "      <td>N</td>\n",
       "      <td>Y</td>\n",
       "      <td>0</td>\n",
       "      <td>270000.0</td>\n",
       "      <td>Commercial associate</td>\n",
       "      <td>Secondary / secondary special</td>\n",
       "      <td>Single / not married</td>\n",
       "      <td>House / apartment</td>\n",
       "      <td>-19110</td>\n",
       "      <td>-3051</td>\n",
       "      <td>1</td>\n",
       "      <td>0</td>\n",
       "      <td>1</td>\n",
       "      <td>1</td>\n",
       "      <td>Sales staff</td>\n",
       "      <td>1.0</td>\n",
       "    </tr>\n",
       "    <tr>\n",
       "      <th>6</th>\n",
       "      <td>5008811</td>\n",
       "      <td>F</td>\n",
       "      <td>N</td>\n",
       "      <td>Y</td>\n",
       "      <td>0</td>\n",
       "      <td>270000.0</td>\n",
       "      <td>Commercial associate</td>\n",
       "      <td>Secondary / secondary special</td>\n",
       "      <td>Single / not married</td>\n",
       "      <td>House / apartment</td>\n",
       "      <td>-19110</td>\n",
       "      <td>-3051</td>\n",
       "      <td>1</td>\n",
       "      <td>0</td>\n",
       "      <td>1</td>\n",
       "      <td>1</td>\n",
       "      <td>Sales staff</td>\n",
       "      <td>1.0</td>\n",
       "    </tr>\n",
       "  </tbody>\n",
       "</table>\n",
       "</div>"
      ],
      "text/plain": [
       "        ID CODE_GENDER FLAG_OWN_CAR FLAG_OWN_REALTY  CNT_CHILDREN  \\\n",
       "2  5008806           M            Y               Y             0   \n",
       "3  5008808           F            N               Y             0   \n",
       "4  5008809           F            N               Y             0   \n",
       "5  5008810           F            N               Y             0   \n",
       "6  5008811           F            N               Y             0   \n",
       "\n",
       "   AMT_INCOME_TOTAL      NAME_INCOME_TYPE            NAME_EDUCATION_TYPE  \\\n",
       "2          112500.0               Working  Secondary / secondary special   \n",
       "3          270000.0  Commercial associate  Secondary / secondary special   \n",
       "4          270000.0  Commercial associate  Secondary / secondary special   \n",
       "5          270000.0  Commercial associate  Secondary / secondary special   \n",
       "6          270000.0  Commercial associate  Secondary / secondary special   \n",
       "\n",
       "     NAME_FAMILY_STATUS  NAME_HOUSING_TYPE  DAYS_BIRTH  DAYS_EMPLOYED  \\\n",
       "2               Married  House / apartment      -21474          -1134   \n",
       "3  Single / not married  House / apartment      -19110          -3051   \n",
       "4  Single / not married  House / apartment      -19110          -3051   \n",
       "5  Single / not married  House / apartment      -19110          -3051   \n",
       "6  Single / not married  House / apartment      -19110          -3051   \n",
       "\n",
       "   FLAG_MOBIL  FLAG_WORK_PHONE  FLAG_PHONE  FLAG_EMAIL OCCUPATION_TYPE  \\\n",
       "2           1                0           0           0  Security staff   \n",
       "3           1                0           1           1     Sales staff   \n",
       "4           1                0           1           1     Sales staff   \n",
       "5           1                0           1           1     Sales staff   \n",
       "6           1                0           1           1     Sales staff   \n",
       "\n",
       "   CNT_FAM_MEMBERS  \n",
       "2              2.0  \n",
       "3              1.0  \n",
       "4              1.0  \n",
       "5              1.0  \n",
       "6              1.0  "
      ]
     },
     "execution_count": 228,
     "metadata": {},
     "output_type": "execute_result"
    }
   ],
   "source": []
  },
  {
   "cell_type": "code",
   "execution_count": 229,
   "id": "34a14ddc",
   "metadata": {
    "scrolled": true
   },
   "outputs": [
    {
     "data": {
      "image/png": "[encoded data removed]",
      "text/plain": [
       "<Figure size 1080x432 with 1 Axes>"
      ]
     },
     "metadata": {
      "needs_background": "light"
     },
     "output_type": "display_data"
    }
   ],
   "source": [
    "plt.figure(figsize=(15,6))\n",
    "# plt.hist(applications[\"AMT_INCOME_TOTAL\"], 150)\n",
    "plt.hist(apps[\"AMT_INCOME_TOTAL\"], 25)\n",
    "plt.ticklabel_format(style=\"plain\")\n",
    "plt.title(\"Histogram of income levels\")\n",
    "\n",
    "plt.show()"
   ]
  },
  {
   "cell_type": "markdown",
   "id": "aa44a378",
   "metadata": {},
   "source": [
    "Defining income groups (may be useful for data viz?)"
   ]
  },
  {
   "cell_type": "code",
   "execution_count": 151,
   "id": "e57fe3ee",
   "metadata": {},
   "outputs": [
    {
     "name": "stdout",
     "output_type": "stream",
     "text": [
      "[50000, 100000, 150000, 200000, 250000, 300000, 350000, 400000]\n"
     ]
    }
   ],
   "source": [
    "# Represents interval between each income group \n",
    "# e.g. 50000 means the groups are: <50k, 50k-100k, 100k-150k and so on\n",
    "\n",
    "INCOME_GROUP_INTERVAL = 50000\n",
    "\n",
    "\n",
    "# Define income groups. Numbers represent upper limit \n",
    "# e.g. 150000 means < 150000 and > 100000 (the previous number in the list)\n",
    "income_groups = []\n",
    "income_group_cutoff = INCOME_GROUP_INTERVAL\n",
    "while income_group_cutoff < apps[\"AMT_INCOME_TOTAL\"].max():\n",
    "    income_groups.append(income_group_cutoff)\n",
    "    income_group_cutoff += INCOME_GROUP_INTERVAL\n",
    "income_groups.append(income_group_cutoff)\n",
    "\n",
    "print(income_groups)"
   ]
  },
  {
   "cell_type": "code",
   "execution_count": 152,
   "id": "e53ff488",
   "metadata": {
    "scrolled": false
   },
   "outputs": [],
   "source": [
    "# app_income_groups = []\n",
    "# for income in income_groups:\n",
    "#     income_lower = income - INCOME_GROUP_INTERVAL\n",
    "#     app_income_groups.append(applications.loc[(applications[\"AMT_INCOME_TOTAL\"]<=income) & \n",
    "#                                                   (applications[\"AMT_INCOME_TOTAL\"]>income_lower),\n",
    "#                                                   [\"ID\", \"AMT_INCOME_TOTAL\"]])\n",
    "#     print(f\"Appended {income_lower} to {income}\")"
   ]
  },
  {
   "cell_type": "markdown",
   "id": "b42d42cb",
   "metadata": {},
   "source": [
    "## 3. Pre-processing of credit histories\n",
    "Pre-processing done:\n",
    "- Assign a \"risk score\" to each month's credit history record. Higher score means more risk of overdue/default.\n",
    "    - Step 1: Convert STATUS to range of 0 - 6 based on credit status\n",
    "    - Step 2: Risk score$={e^{x/e}-1}$, where x = STATUS. The idea is that extreme overdue (e.g. >150 days) is far riskier than 1~29 days overdue\n",
    "\n",
    "| Credit status                 |STATUS |RISK_SCORE|\n",
    "|:------------------------------|:------|:---------|\n",
    "| Paid-off loan or no loan      | 0     | 0        |\n",
    "| 1 ~ 29 days past due          | 1     | 0.4447   |\n",
    "| 30 ~ 59 days past due         | 2     | 1.0871   |\n",
    "| 60 ~ 89 days past due         | 3     | 2.0151   |\n",
    "| 90 ~ 119 days past due        | 4     | 3.3558   |\n",
    "| 120 ~ 149 days past due       | 5     | 5.2927   |\n",
    "| >150 days past due, write-off | 6     | 8.0909   |\n",
    "\n",
    "- Group entries by ID. Each ID now only has 1 entry instead of multiple entries"
   ]
  },
  {
   "cell_type": "code",
   "execution_count": 153,
   "id": "922199f9",
   "metadata": {},
   "outputs": [],
   "source": [
    "#Create a deep copy of credit_hist to avoid affecting original dataframe\n",
    "credit_hist_grouped = credit_hist.copy(deep=True)\n",
    "\n",
    "# Replace STATUS \"X\" and \"C\" with \"-1\"\n",
    "credit_hist_grouped[\"STATUS\"].replace([\"X\", \"C\"], \"-1\", inplace=True)\n",
    "\n",
    "# Convert from str to int \n",
    "credit_hist_grouped[\"STATUS\"] = credit_hist_grouped[\"STATUS\"].astype(int)\n",
    "\n",
    "# Convert status to risk score for that month\n",
    "e = 2.718281828 # Euler's number\n",
    "credit_hist_grouped[\"RISK_SCORE\"] = np.exp((credit_hist_grouped[\"STATUS\"] + 1) / e) - 1\n",
    "\n",
    "# Remove STATUS column\n",
    "credit_hist_grouped.drop([\"STATUS\"], axis=1, inplace=True)"
   ]
  },
  {
   "cell_type": "code",
   "execution_count": 154,
   "id": "7d0e13ed",
   "metadata": {},
   "outputs": [
    {
     "data": {
      "text/html": [
       "<div>\n",
       "<style scoped>\n",
       "    .dataframe tbody tr th:only-of-type {\n",
       "        vertical-align: middle;\n",
       "    }\n",
       "\n",
       "    .dataframe tbody tr th {\n",
       "        vertical-align: top;\n",
       "    }\n",
       "\n",
       "    .dataframe thead th {\n",
       "        text-align: right;\n",
       "    }\n",
       "</style>\n",
       "<table border=\"1\" class=\"dataframe\">\n",
       "  <thead>\n",
       "    <tr style=\"text-align: right;\">\n",
       "      <th></th>\n",
       "      <th>ID</th>\n",
       "      <th>MONTHS_BALANCE</th>\n",
       "      <th>RISK_SCORE</th>\n",
       "    </tr>\n",
       "  </thead>\n",
       "  <tbody>\n",
       "    <tr>\n",
       "      <th>224</th>\n",
       "      <td>5001720</td>\n",
       "      <td>0</td>\n",
       "      <td>1.087065</td>\n",
       "    </tr>\n",
       "    <tr>\n",
       "      <th>225</th>\n",
       "      <td>5001720</td>\n",
       "      <td>-1</td>\n",
       "      <td>0.444668</td>\n",
       "    </tr>\n",
       "    <tr>\n",
       "      <th>226</th>\n",
       "      <td>5001720</td>\n",
       "      <td>-2</td>\n",
       "      <td>0.444668</td>\n",
       "    </tr>\n",
       "    <tr>\n",
       "      <th>227</th>\n",
       "      <td>5001720</td>\n",
       "      <td>-3</td>\n",
       "      <td>1.087065</td>\n",
       "    </tr>\n",
       "    <tr>\n",
       "      <th>228</th>\n",
       "      <td>5001720</td>\n",
       "      <td>-4</td>\n",
       "      <td>1.087065</td>\n",
       "    </tr>\n",
       "    <tr>\n",
       "      <th>229</th>\n",
       "      <td>5001720</td>\n",
       "      <td>-5</td>\n",
       "      <td>0.444668</td>\n",
       "    </tr>\n",
       "    <tr>\n",
       "      <th>230</th>\n",
       "      <td>5001720</td>\n",
       "      <td>-6</td>\n",
       "      <td>1.087065</td>\n",
       "    </tr>\n",
       "    <tr>\n",
       "      <th>231</th>\n",
       "      <td>5001720</td>\n",
       "      <td>-7</td>\n",
       "      <td>1.087065</td>\n",
       "    </tr>\n",
       "    <tr>\n",
       "      <th>232</th>\n",
       "      <td>5001720</td>\n",
       "      <td>-8</td>\n",
       "      <td>0.444668</td>\n",
       "    </tr>\n",
       "    <tr>\n",
       "      <th>233</th>\n",
       "      <td>5001720</td>\n",
       "      <td>-9</td>\n",
       "      <td>0.444668</td>\n",
       "    </tr>\n",
       "    <tr>\n",
       "      <th>234</th>\n",
       "      <td>5001720</td>\n",
       "      <td>-10</td>\n",
       "      <td>0.444668</td>\n",
       "    </tr>\n",
       "  </tbody>\n",
       "</table>\n",
       "</div>"
      ],
      "text/plain": [
       "          ID  MONTHS_BALANCE  RISK_SCORE\n",
       "224  5001720               0    1.087065\n",
       "225  5001720              -1    0.444668\n",
       "226  5001720              -2    0.444668\n",
       "227  5001720              -3    1.087065\n",
       "228  5001720              -4    1.087065\n",
       "229  5001720              -5    0.444668\n",
       "230  5001720              -6    1.087065\n",
       "231  5001720              -7    1.087065\n",
       "232  5001720              -8    0.444668\n",
       "233  5001720              -9    0.444668\n",
       "234  5001720             -10    0.444668"
      ]
     },
     "execution_count": 154,
     "metadata": {},
     "output_type": "execute_result"
    }
   ],
   "source": [
    "#Visualize some of the entries\n",
    "credit_hist_grouped.iloc[224:235,:]"
   ]
  },
  {
   "cell_type": "code",
   "execution_count": 155,
   "id": "ada63feb",
   "metadata": {},
   "outputs": [],
   "source": [
    "# Record how many months ago was that particular record for, in terms of positive numbers (e.g. 1 month ago, 2 months ago)\n",
    "credit_hist_grouped[\"MONTHS_AGO\"] = credit_hist_grouped[\"MONTHS_BALANCE\"] * -1\n",
    "\n",
    "# Remove MONTHS_BALANCE column\n",
    "credit_hist_grouped.drop([\"MONTHS_BALANCE\"], axis=1, inplace=True)"
   ]
  },
  {
   "cell_type": "code",
   "execution_count": 156,
   "id": "75217c09",
   "metadata": {},
   "outputs": [],
   "source": [
    "# Collapse credit_hist, by grouping all the entries with the same ID together. \n",
    "# For MONTHS_AGO we take the max value amongst all entries with the same ID. \n",
    "# For RISK_SCORE we take average across all months for that person.\n",
    "\n",
    "credit_hist_agg = credit_hist_grouped.groupby([\"ID\"]).agg(\n",
    "    {\n",
    "        \"RISK_SCORE\": \"mean\",\n",
    "        \"MONTHS_AGO\": max\n",
    "    }\n",
    ")"
   ]
  },
  {
   "cell_type": "code",
   "execution_count": 157,
   "id": "1670420f",
   "metadata": {},
   "outputs": [],
   "source": [
    "# Record if the person has history of voerdue or not\n",
    "credit_hist_agg[\"HAS_OVERDUE\"] = (credit_hist_agg[\"RISK_SCORE\"] > 0).astype(int)"
   ]
  },
  {
   "cell_type": "code",
   "execution_count": 158,
   "id": "360fdbc2",
   "metadata": {},
   "outputs": [
    {
     "data": {
      "text/html": [
       "<div>\n",
       "<style scoped>\n",
       "    .dataframe tbody tr th:only-of-type {\n",
       "        vertical-align: middle;\n",
       "    }\n",
       "\n",
       "    .dataframe tbody tr th {\n",
       "        vertical-align: top;\n",
       "    }\n",
       "\n",
       "    .dataframe thead th {\n",
       "        text-align: right;\n",
       "    }\n",
       "</style>\n",
       "<table border=\"1\" class=\"dataframe\">\n",
       "  <thead>\n",
       "    <tr style=\"text-align: right;\">\n",
       "      <th></th>\n",
       "      <th>RISK_SCORE</th>\n",
       "      <th>HAS_OVERDUE</th>\n",
       "      <th>CREDIT_HIST_LEN</th>\n",
       "    </tr>\n",
       "    <tr>\n",
       "      <th>ID</th>\n",
       "      <th></th>\n",
       "      <th></th>\n",
       "      <th></th>\n",
       "    </tr>\n",
       "  </thead>\n",
       "  <tbody>\n",
       "    <tr>\n",
       "      <th>5001711</th>\n",
       "      <td>0.333501</td>\n",
       "      <td>1</td>\n",
       "      <td>4</td>\n",
       "    </tr>\n",
       "    <tr>\n",
       "      <th>5001712</th>\n",
       "      <td>0.234036</td>\n",
       "      <td>1</td>\n",
       "      <td>19</td>\n",
       "    </tr>\n",
       "    <tr>\n",
       "      <th>5001713</th>\n",
       "      <td>0.000000</td>\n",
       "      <td>0</td>\n",
       "      <td>22</td>\n",
       "    </tr>\n",
       "    <tr>\n",
       "      <th>5001714</th>\n",
       "      <td>0.000000</td>\n",
       "      <td>0</td>\n",
       "      <td>15</td>\n",
       "    </tr>\n",
       "    <tr>\n",
       "      <th>5001715</th>\n",
       "      <td>0.000000</td>\n",
       "      <td>0</td>\n",
       "      <td>60</td>\n",
       "    </tr>\n",
       "    <tr>\n",
       "      <th>5001717</th>\n",
       "      <td>0.343607</td>\n",
       "      <td>1</td>\n",
       "      <td>22</td>\n",
       "    </tr>\n",
       "    <tr>\n",
       "      <th>5001718</th>\n",
       "      <td>0.329389</td>\n",
       "      <td>1</td>\n",
       "      <td>39</td>\n",
       "    </tr>\n",
       "    <tr>\n",
       "      <th>5001719</th>\n",
       "      <td>0.020682</td>\n",
       "      <td>1</td>\n",
       "      <td>43</td>\n",
       "    </tr>\n",
       "    <tr>\n",
       "      <th>5001720</th>\n",
       "      <td>0.569578</td>\n",
       "      <td>1</td>\n",
       "      <td>36</td>\n",
       "    </tr>\n",
       "    <tr>\n",
       "      <th>5001723</th>\n",
       "      <td>0.114753</td>\n",
       "      <td>1</td>\n",
       "      <td>31</td>\n",
       "    </tr>\n",
       "  </tbody>\n",
       "</table>\n",
       "</div>"
      ],
      "text/plain": [
       "         RISK_SCORE  HAS_OVERDUE  CREDIT_HIST_LEN\n",
       "ID                                               \n",
       "5001711    0.333501            1                4\n",
       "5001712    0.234036            1               19\n",
       "5001713    0.000000            0               22\n",
       "5001714    0.000000            0               15\n",
       "5001715    0.000000            0               60\n",
       "5001717    0.343607            1               22\n",
       "5001718    0.329389            1               39\n",
       "5001719    0.020682            1               43\n",
       "5001720    0.569578            1               36\n",
       "5001723    0.114753            1               31"
      ]
     },
     "execution_count": 158,
     "metadata": {},
     "output_type": "execute_result"
    }
   ],
   "source": [
    "# CREDIT_HIST_LEN records the length of their credit history\n",
    "credit_hist_agg[\"CREDIT_HIST_LEN\"] = credit_hist_agg[\"MONTHS_AGO\"] + 1\n",
    "\n",
    "# Remove MONTHS_AGO column\n",
    "credit_hist_agg.drop([\"MONTHS_AGO\"], axis=1, inplace=True)\n",
    "\n",
    "credit_hist_agg.head(10)"
   ]
  },
  {
   "cell_type": "code",
   "execution_count": 159,
   "id": "eb66ed15",
   "metadata": {},
   "outputs": [
    {
     "name": "stdout",
     "output_type": "stream",
     "text": [
      "<class 'pandas.core.frame.DataFrame'>\n",
      "Int64Index: 438510 entries, 0 to 438556\n",
      "Data columns (total 18 columns):\n",
      " #   Column               Non-Null Count   Dtype  \n",
      "---  ------               --------------   -----  \n",
      " 0   ID                   438510 non-null  int64  \n",
      " 1   CODE_GENDER          438510 non-null  object \n",
      " 2   FLAG_OWN_CAR         438510 non-null  object \n",
      " 3   FLAG_OWN_REALTY      438510 non-null  object \n",
      " 4   CNT_CHILDREN         438510 non-null  int64  \n",
      " 5   AMT_INCOME_TOTAL     438510 non-null  float64\n",
      " 6   NAME_INCOME_TYPE     438510 non-null  object \n",
      " 7   NAME_EDUCATION_TYPE  438510 non-null  object \n",
      " 8   NAME_FAMILY_STATUS   438510 non-null  object \n",
      " 9   NAME_HOUSING_TYPE    438510 non-null  object \n",
      " 10  DAYS_BIRTH           438510 non-null  int64  \n",
      " 11  DAYS_EMPLOYED        438510 non-null  int64  \n",
      " 12  FLAG_MOBIL           438510 non-null  int64  \n",
      " 13  FLAG_WORK_PHONE      438510 non-null  int64  \n",
      " 14  FLAG_PHONE           438510 non-null  int64  \n",
      " 15  FLAG_EMAIL           438510 non-null  int64  \n",
      " 16  OCCUPATION_TYPE      304317 non-null  object \n",
      " 17  CNT_FAM_MEMBERS      438510 non-null  float64\n",
      "dtypes: float64(2), int64(8), object(8)\n",
      "memory usage: 63.6+ MB\n"
     ]
    }
   ],
   "source": [
    "applications.info()"
   ]
  },
  {
   "cell_type": "code",
   "execution_count": 160,
   "id": "0b75aa0d",
   "metadata": {},
   "outputs": [
    {
     "name": "stdout",
     "output_type": "stream",
     "text": [
      "<class 'pandas.core.frame.DataFrame'>\n",
      "Int64Index: 45985 entries, 5001711 to 5150487\n",
      "Data columns (total 3 columns):\n",
      " #   Column           Non-Null Count  Dtype  \n",
      "---  ------           --------------  -----  \n",
      " 0   RISK_SCORE       45985 non-null  float64\n",
      " 1   HAS_OVERDUE      45985 non-null  int32  \n",
      " 2   CREDIT_HIST_LEN  45985 non-null  int64  \n",
      "dtypes: float64(1), int32(1), int64(1)\n",
      "memory usage: 1.2 MB\n"
     ]
    }
   ],
   "source": [
    "credit_hist_agg.info()"
   ]
  },
  {
   "cell_type": "markdown",
   "id": "decd0faf",
   "metadata": {},
   "source": [
    "## 4. Merge the two dataframes together\n",
    "In essence, attaching the credit status & credit history length to each individual's profile.\n",
    "\n",
    "Only keep rows with IDs that appear in both application record and credit history \n",
    "- i.e. if a person has an application record but no credit history, we discard that entry"
   ]
  },
  {
   "cell_type": "code",
   "execution_count": 212,
   "id": "7c231016",
   "metadata": {
    "scrolled": false
   },
   "outputs": [
    {
     "data": {
      "text/html": [
       "<div>\n",
       "<style scoped>\n",
       "    .dataframe tbody tr th:only-of-type {\n",
       "        vertical-align: middle;\n",
       "    }\n",
       "\n",
       "    .dataframe tbody tr th {\n",
       "        vertical-align: top;\n",
       "    }\n",
       "\n",
       "    .dataframe thead th {\n",
       "        text-align: right;\n",
       "    }\n",
       "</style>\n",
       "<table border=\"1\" class=\"dataframe\">\n",
       "  <thead>\n",
       "    <tr style=\"text-align: right;\">\n",
       "      <th></th>\n",
       "      <th>ID</th>\n",
       "      <th>CODE_GENDER</th>\n",
       "      <th>FLAG_OWN_CAR</th>\n",
       "      <th>FLAG_OWN_REALTY</th>\n",
       "      <th>CNT_CHILDREN</th>\n",
       "      <th>AMT_INCOME_TOTAL</th>\n",
       "      <th>NAME_INCOME_TYPE</th>\n",
       "      <th>NAME_EDUCATION_TYPE</th>\n",
       "      <th>NAME_FAMILY_STATUS</th>\n",
       "      <th>NAME_HOUSING_TYPE</th>\n",
       "      <th>...</th>\n",
       "      <th>DAYS_EMPLOYED</th>\n",
       "      <th>FLAG_MOBIL</th>\n",
       "      <th>FLAG_WORK_PHONE</th>\n",
       "      <th>FLAG_PHONE</th>\n",
       "      <th>FLAG_EMAIL</th>\n",
       "      <th>OCCUPATION_TYPE</th>\n",
       "      <th>CNT_FAM_MEMBERS</th>\n",
       "      <th>RISK_SCORE</th>\n",
       "      <th>HAS_OVERDUE</th>\n",
       "      <th>CREDIT_HIST_LEN</th>\n",
       "    </tr>\n",
       "  </thead>\n",
       "  <tbody>\n",
       "    <tr>\n",
       "      <th>0</th>\n",
       "      <td>5008804</td>\n",
       "      <td>M</td>\n",
       "      <td>Y</td>\n",
       "      <td>Y</td>\n",
       "      <td>0</td>\n",
       "      <td>427500.0</td>\n",
       "      <td>Working</td>\n",
       "      <td>Higher education</td>\n",
       "      <td>Civil marriage</td>\n",
       "      <td>Rented apartment</td>\n",
       "      <td>...</td>\n",
       "      <td>-4542</td>\n",
       "      <td>1</td>\n",
       "      <td>1</td>\n",
       "      <td>0</td>\n",
       "      <td>0</td>\n",
       "      <td>NaN</td>\n",
       "      <td>2.0</td>\n",
       "      <td>0.095733</td>\n",
       "      <td>1</td>\n",
       "      <td>16</td>\n",
       "    </tr>\n",
       "    <tr>\n",
       "      <th>1</th>\n",
       "      <td>5008805</td>\n",
       "      <td>M</td>\n",
       "      <td>Y</td>\n",
       "      <td>Y</td>\n",
       "      <td>0</td>\n",
       "      <td>427500.0</td>\n",
       "      <td>Working</td>\n",
       "      <td>Higher education</td>\n",
       "      <td>Civil marriage</td>\n",
       "      <td>Rented apartment</td>\n",
       "      <td>...</td>\n",
       "      <td>-4542</td>\n",
       "      <td>1</td>\n",
       "      <td>1</td>\n",
       "      <td>0</td>\n",
       "      <td>0</td>\n",
       "      <td>NaN</td>\n",
       "      <td>2.0</td>\n",
       "      <td>0.102116</td>\n",
       "      <td>1</td>\n",
       "      <td>15</td>\n",
       "    </tr>\n",
       "    <tr>\n",
       "      <th>2</th>\n",
       "      <td>5008806</td>\n",
       "      <td>M</td>\n",
       "      <td>Y</td>\n",
       "      <td>Y</td>\n",
       "      <td>0</td>\n",
       "      <td>112500.0</td>\n",
       "      <td>Working</td>\n",
       "      <td>Secondary / secondary special</td>\n",
       "      <td>Married</td>\n",
       "      <td>House / apartment</td>\n",
       "      <td>...</td>\n",
       "      <td>-1134</td>\n",
       "      <td>1</td>\n",
       "      <td>0</td>\n",
       "      <td>0</td>\n",
       "      <td>0</td>\n",
       "      <td>Security staff</td>\n",
       "      <td>2.0</td>\n",
       "      <td>0.103756</td>\n",
       "      <td>1</td>\n",
       "      <td>30</td>\n",
       "    </tr>\n",
       "    <tr>\n",
       "      <th>3</th>\n",
       "      <td>5008808</td>\n",
       "      <td>F</td>\n",
       "      <td>N</td>\n",
       "      <td>Y</td>\n",
       "      <td>0</td>\n",
       "      <td>270000.0</td>\n",
       "      <td>Commercial associate</td>\n",
       "      <td>Secondary / secondary special</td>\n",
       "      <td>Single / not married</td>\n",
       "      <td>House / apartment</td>\n",
       "      <td>...</td>\n",
       "      <td>-3051</td>\n",
       "      <td>1</td>\n",
       "      <td>0</td>\n",
       "      <td>1</td>\n",
       "      <td>1</td>\n",
       "      <td>Sales staff</td>\n",
       "      <td>1.0</td>\n",
       "      <td>0.177867</td>\n",
       "      <td>1</td>\n",
       "      <td>5</td>\n",
       "    </tr>\n",
       "    <tr>\n",
       "      <th>4</th>\n",
       "      <td>5008809</td>\n",
       "      <td>F</td>\n",
       "      <td>N</td>\n",
       "      <td>Y</td>\n",
       "      <td>0</td>\n",
       "      <td>270000.0</td>\n",
       "      <td>Commercial associate</td>\n",
       "      <td>Secondary / secondary special</td>\n",
       "      <td>Single / not married</td>\n",
       "      <td>House / apartment</td>\n",
       "      <td>...</td>\n",
       "      <td>-3051</td>\n",
       "      <td>1</td>\n",
       "      <td>0</td>\n",
       "      <td>1</td>\n",
       "      <td>1</td>\n",
       "      <td>Sales staff</td>\n",
       "      <td>1.0</td>\n",
       "      <td>0.000000</td>\n",
       "      <td>0</td>\n",
       "      <td>27</td>\n",
       "    </tr>\n",
       "  </tbody>\n",
       "</table>\n",
       "<p>5 rows × 21 columns</p>\n",
       "</div>"
      ],
      "text/plain": [
       "        ID CODE_GENDER FLAG_OWN_CAR FLAG_OWN_REALTY  CNT_CHILDREN  \\\n",
       "0  5008804           M            Y               Y             0   \n",
       "1  5008805           M            Y               Y             0   \n",
       "2  5008806           M            Y               Y             0   \n",
       "3  5008808           F            N               Y             0   \n",
       "4  5008809           F            N               Y             0   \n",
       "\n",
       "   AMT_INCOME_TOTAL      NAME_INCOME_TYPE            NAME_EDUCATION_TYPE  \\\n",
       "0          427500.0               Working               Higher education   \n",
       "1          427500.0               Working               Higher education   \n",
       "2          112500.0               Working  Secondary / secondary special   \n",
       "3          270000.0  Commercial associate  Secondary / secondary special   \n",
       "4          270000.0  Commercial associate  Secondary / secondary special   \n",
       "\n",
       "     NAME_FAMILY_STATUS  NAME_HOUSING_TYPE  ...  DAYS_EMPLOYED  FLAG_MOBIL  \\\n",
       "0        Civil marriage   Rented apartment  ...          -4542           1   \n",
       "1        Civil marriage   Rented apartment  ...          -4542           1   \n",
       "2               Married  House / apartment  ...          -1134           1   \n",
       "3  Single / not married  House / apartment  ...          -3051           1   \n",
       "4  Single / not married  House / apartment  ...          -3051           1   \n",
       "\n",
       "   FLAG_WORK_PHONE  FLAG_PHONE  FLAG_EMAIL  OCCUPATION_TYPE CNT_FAM_MEMBERS  \\\n",
       "0                1           0           0              NaN             2.0   \n",
       "1                1           0           0              NaN             2.0   \n",
       "2                0           0           0   Security staff             2.0   \n",
       "3                0           1           1      Sales staff             1.0   \n",
       "4                0           1           1      Sales staff             1.0   \n",
       "\n",
       "   RISK_SCORE  HAS_OVERDUE  CREDIT_HIST_LEN  \n",
       "0    0.095733            1               16  \n",
       "1    0.102116            1               15  \n",
       "2    0.103756            1               30  \n",
       "3    0.177867            1                5  \n",
       "4    0.000000            0               27  \n",
       "\n",
       "[5 rows x 21 columns]"
      ]
     },
     "execution_count": 212,
     "metadata": {},
     "output_type": "execute_result"
    }
   ],
   "source": [
    "# Merge the two dataframes together\n",
    "apps_merged = pd.merge(applications, credit_hist_agg, how=\"inner\", on=\"ID\")\n",
    "\n",
    "apps_merged.head()"
   ]
  },
  {
   "cell_type": "markdown",
   "id": "69ac85b0",
   "metadata": {},
   "source": [
    "However, there are many entries that have different credit histories and IDs but have the same values for ALL other columns. \n",
    "\n",
    "Chances of two people having the exact same gender, own a car, own a house, number of children, annual income, ... , number of family members is infinitely low. Hence most likely to be duplicated entries\n",
    "\n",
    "Remove these duplicated entries, keeping the entry with longest credit history (rationale: more months of data available)"
   ]
  },
  {
   "cell_type": "code",
   "execution_count": 213,
   "id": "d4d2e14a",
   "metadata": {},
   "outputs": [
    {
     "name": "stdout",
     "output_type": "stream",
     "text": [
      "['CODE_GENDER', 'FLAG_OWN_CAR', 'FLAG_OWN_REALTY', 'CNT_CHILDREN', 'AMT_INCOME_TOTAL', 'NAME_INCOME_TYPE', 'NAME_EDUCATION_TYPE', 'NAME_FAMILY_STATUS', 'NAME_HOUSING_TYPE', 'DAYS_BIRTH', 'DAYS_EMPLOYED', 'FLAG_MOBIL', 'FLAG_WORK_PHONE', 'FLAG_PHONE', 'FLAG_EMAIL', 'OCCUPATION_TYPE', 'CNT_FAM_MEMBERS']\n",
      "<class 'pandas.core.frame.DataFrame'>\n",
      "Int64Index: 9728 entries, 24773 to 29014\n",
      "Data columns (total 21 columns):\n",
      " #   Column               Non-Null Count  Dtype  \n",
      "---  ------               --------------  -----  \n",
      " 0   ID                   9728 non-null   int64  \n",
      " 1   CODE_GENDER          9728 non-null   object \n",
      " 2   FLAG_OWN_CAR         9728 non-null   object \n",
      " 3   FLAG_OWN_REALTY      9728 non-null   object \n",
      " 4   CNT_CHILDREN         9728 non-null   int64  \n",
      " 5   AMT_INCOME_TOTAL     9728 non-null   float64\n",
      " 6   NAME_INCOME_TYPE     9728 non-null   object \n",
      " 7   NAME_EDUCATION_TYPE  9728 non-null   object \n",
      " 8   NAME_FAMILY_STATUS   9728 non-null   object \n",
      " 9   NAME_HOUSING_TYPE    9728 non-null   object \n",
      " 10  DAYS_BIRTH           9728 non-null   int64  \n",
      " 11  DAYS_EMPLOYED        9728 non-null   int64  \n",
      " 12  FLAG_MOBIL           9728 non-null   int64  \n",
      " 13  FLAG_WORK_PHONE      9728 non-null   int64  \n",
      " 14  FLAG_PHONE           9728 non-null   int64  \n",
      " 15  FLAG_EMAIL           9728 non-null   int64  \n",
      " 16  OCCUPATION_TYPE      6727 non-null   object \n",
      " 17  CNT_FAM_MEMBERS      9728 non-null   float64\n",
      " 18  RISK_SCORE           9728 non-null   float64\n",
      " 19  HAS_OVERDUE          9728 non-null   int32  \n",
      " 20  CREDIT_HIST_LEN      9728 non-null   int64  \n",
      "dtypes: float64(3), int32(1), int64(9), object(8)\n",
      "memory usage: 1.6+ MB\n"
     ]
    }
   ],
   "source": [
    "# Collect list of column names in application record\n",
    "columns = list(applications.columns)\n",
    "columns.remove(\"ID\")\n",
    "print(columns)\n",
    "\n",
    "# Remove duplicated entries (with same gender, own a car, ..., family members), keeping entry with longest credit history\n",
    "apps_merged = apps_merged.sort_values(\"CREDIT_HIST_LEN\", ascending=False).drop_duplicates(subset=columns)\n",
    "apps_merged.sort_index()\n",
    "\n",
    "apps_merged.info()"
   ]
  },
  {
   "cell_type": "code",
   "execution_count": 214,
   "id": "81ebc3e5",
   "metadata": {},
   "outputs": [],
   "source": [
    "# Remove OCCUPATION_TYPE as it has many null values, as can be seen from the info() above\n",
    "apps_merged.drop([\"OCCUPATION_TYPE\"], axis=1, inplace=True)"
   ]
  },
  {
   "cell_type": "code",
   "execution_count": 215,
   "id": "76d9916f",
   "metadata": {
    "scrolled": false
   },
   "outputs": [
    {
     "name": "stdout",
     "output_type": "stream",
     "text": [
      "<class 'pandas.core.frame.DataFrame'>\n",
      "Int64Index: 9728 entries, 24773 to 29014\n",
      "Data columns (total 20 columns):\n",
      " #   Column               Non-Null Count  Dtype  \n",
      "---  ------               --------------  -----  \n",
      " 0   ID                   9728 non-null   int64  \n",
      " 1   CODE_GENDER          9728 non-null   object \n",
      " 2   FLAG_OWN_CAR         9728 non-null   object \n",
      " 3   FLAG_OWN_REALTY      9728 non-null   object \n",
      " 4   CNT_CHILDREN         9728 non-null   int64  \n",
      " 5   AMT_INCOME_TOTAL     9728 non-null   float64\n",
      " 6   NAME_INCOME_TYPE     9728 non-null   object \n",
      " 7   NAME_EDUCATION_TYPE  9728 non-null   object \n",
      " 8   NAME_FAMILY_STATUS   9728 non-null   object \n",
      " 9   NAME_HOUSING_TYPE    9728 non-null   object \n",
      " 10  DAYS_BIRTH           9728 non-null   int64  \n",
      " 11  DAYS_EMPLOYED        9728 non-null   int64  \n",
      " 12  FLAG_MOBIL           9728 non-null   int64  \n",
      " 13  FLAG_WORK_PHONE      9728 non-null   int64  \n",
      " 14  FLAG_PHONE           9728 non-null   int64  \n",
      " 15  FLAG_EMAIL           9728 non-null   int64  \n",
      " 16  CNT_FAM_MEMBERS      9728 non-null   float64\n",
      " 17  RISK_SCORE           9728 non-null   float64\n",
      " 18  HAS_OVERDUE          9728 non-null   int32  \n",
      " 19  CREDIT_HIST_LEN      9728 non-null   int64  \n",
      "dtypes: float64(3), int32(1), int64(9), object(7)\n",
      "memory usage: 1.5+ MB\n"
     ]
    }
   ],
   "source": [
    "apps_merged.info()"
   ]
  },
  {
   "cell_type": "code",
   "execution_count": 216,
   "id": "9773ae24",
   "metadata": {},
   "outputs": [
    {
     "data": {
      "text/plain": [
       "1    8669\n",
       "0    1059\n",
       "Name: HAS_OVERDUE, dtype: int64"
      ]
     },
     "execution_count": 216,
     "metadata": {},
     "output_type": "execute_result"
    }
   ],
   "source": [
    "apps_merged[\"HAS_OVERDUE\"].value_counts()"
   ]
  },
  {
   "cell_type": "markdown",
   "id": "55e4ca09",
   "metadata": {},
   "source": [
    "## 5. Data visualisation"
   ]
  },
  {
   "cell_type": "markdown",
   "id": "74f3e64e",
   "metadata": {},
   "source": [
    "### Distributions of variables"
   ]
  },
  {
   "cell_type": "markdown",
   "id": "a3b39e4b",
   "metadata": {},
   "source": [
    "#### Genders"
   ]
  },
  {
   "cell_type": "code",
   "execution_count": 199,
   "id": "fdb9270d",
   "metadata": {},
   "outputs": [
    {
     "data": {
      "image/png": "[encoded data removed]",
      "text/plain": [
       "<Figure size 648x648 with 1 Axes>"
      ]
     },
     "metadata": {},
     "output_type": "display_data"
    }
   ],
   "source": [
    "gender_counts = apps_merged[\"CODE_GENDER\"].value_counts()\n",
    "plt.figure(figsize=(9,9))\n",
    "plt.pie(gender_counts, \n",
    "        labels=[\"F\", \"M\"],\n",
    "        autopct= lambda x: f\"{int(((x/100)*gender_counts.sum()).round())}\",\n",
    "        colors=[\"c\", \"#ffa600\"],\n",
    "        textprops={'fontsize': 26}\n",
    "       )\n",
    "plt.title(\"Gender of applicants\",\n",
    "          fontdict={\"fontsize\": 32}\n",
    "         )\n",
    "\n",
    "plt.show()"
   ]
  },
  {
   "cell_type": "markdown",
   "id": "a8eb1638",
   "metadata": {},
   "source": [
    "#### Income levels"
   ]
  },
  {
   "cell_type": "code",
   "execution_count": 200,
   "id": "96589758",
   "metadata": {},
   "outputs": [
    {
     "data": {
      "image/png": "[encoded data removed]",
      "text/plain": [
       "<Figure size 1080x432 with 1 Axes>"
      ]
     },
     "metadata": {
      "needs_background": "light"
     },
     "output_type": "display_data"
    }
   ],
   "source": [
    "plt.figure(figsize=(15,6))\n",
    "plt.boxplot(apps_merged[\"AMT_INCOME_TOTAL\"], vert=False)\n",
    "plt.title(\"Income levels\",\n",
    "          fontdict={\"fontsize\":18}\n",
    "         )\n",
    "\n",
    "plt.show()"
   ]
  },
  {
   "cell_type": "code",
   "execution_count": 24,
   "id": "c66ed70b",
   "metadata": {},
   "outputs": [
    {
     "name": "stdout",
     "output_type": "stream",
     "text": [
      "1575000.0\n"
     ]
    }
   ],
   "source": []
  },
  {
   "cell_type": "markdown",
   "id": "a23092f6",
   "metadata": {},
   "source": [
    "Define income groups"
   ]
  },
  {
   "cell_type": "code",
   "execution_count": 26,
   "id": "142dd25c",
   "metadata": {},
   "outputs": [
    {
     "name": "stdout",
     "output_type": "stream",
     "text": [
      "[50000, 100000, 150000, 200000, 250000, 300000, 350000, 400000]\n"
     ]
    }
   ],
   "source": [
    "# Represents interval between each income group \n",
    "# e.g. 50000 means the groups are: <50k, 50k-100k, 100k-150k and so on\n",
    "\n",
    "INCOME_GROUP_INTERVAL = 50000\n",
    "#Define the income for highest income group e.g. 400000 means >400k\n",
    "INCOME_GROUP_HIGHEST = 400000\n",
    "\n",
    "\n",
    "# Define income groups. Numbers represent upper limit \n",
    "# e.g. 150000 means < 150000 and > 100000 (the previous number in the list)\n",
    "income_groups = []\n",
    "income_group_cutoff = INCOME_GROUP_INTERVAL\n",
    "while income_group_cutoff < INCOME_GROUP_HIGHEST:\n",
    "    income_groups.append(income_group_cutoff)\n",
    "    income_group_cutoff += INCOME_GROUP_INTERVAL\n",
    "income_groups.append(income_group_cutoff)\n",
    "\n",
    "print(income_groups)"
   ]
  },
  {
   "cell_type": "code",
   "execution_count": null,
   "id": "677dac1e",
   "metadata": {},
   "outputs": [],
   "source": [
    "apps_merged[\"INCOME_GROUP\"] = "
   ]
  },
  {
   "cell_type": "markdown",
   "id": "70cd0a6a",
   "metadata": {},
   "source": [
    "From the above box plot, we can see that there are several outliers in the annual income category"
   ]
  },
  {
   "cell_type": "code",
   "execution_count": 217,
   "id": "453b084c",
   "metadata": {},
   "outputs": [],
   "source": [
    "#Remove outliers in the income category\n",
    "income_new = remove_outlier_series(apps_merged[\"AMT_INCOME_TOTAL\"])"
   ]
  },
  {
   "cell_type": "code",
   "execution_count": 94,
   "id": "5aa3c8bf",
   "metadata": {},
   "outputs": [],
   "source": [
    "# plt.figure(figsize=(15,6))\n",
    "# plt.boxplot(income_new, vert=False)"
   ]
  },
  {
   "cell_type": "markdown",
   "id": "ac23beb1",
   "metadata": {},
   "source": [
    "Plot histogram of income levels (outliers removed)"
   ]
  },
  {
   "cell_type": "code",
   "execution_count": 218,
   "id": "c203b1c1",
   "metadata": {},
   "outputs": [
    {
     "data": {
      "image/png": "[encoded data removed]",
      "text/plain": [
       "<Figure size 1080x432 with 1 Axes>"
      ]
     },
     "metadata": {
      "needs_background": "light"
     },
     "output_type": "display_data"
    }
   ],
   "source": [
    "plt.figure(figsize=(15,6))\n",
    "# plt.hist(applications[\"AMT_INCOME_TOTAL\"], 150)\n",
    "plt.hist(income_new, 10)\n",
    "plt.ticklabel_format(style=\"plain\")\n",
    "plt.title(\"Histogram of income levels (with outliers removed)\",\n",
    "          fontdict={\"fontsize\": 18}\n",
    "         )\n",
    "\n",
    "plt.show()"
   ]
  },
  {
   "cell_type": "markdown",
   "id": "79ea4fab",
   "metadata": {},
   "source": [
    "Number of children"
   ]
  },
  {
   "cell_type": "code",
   "execution_count": 203,
   "id": "b123b5da",
   "metadata": {},
   "outputs": [
    {
     "data": {
      "image/png": "[encoded data removed]",
      "text/plain": [
       "<Figure size 1080x432 with 1 Axes>"
      ]
     },
     "metadata": {
      "needs_background": "light"
     },
     "output_type": "display_data"
    }
   ],
   "source": [
    "plt.figure(figsize=(15,6))\n",
    "# plt.hist(applications[\"AMT_INCOME_TOTAL\"], 150)\n",
    "plt.hist(apps_merged[\"CNT_CHILDREN\"])\n",
    "plt.title(\"Histogram of number of children\",\n",
    "          fontdict={\"fontsize\": 18}\n",
    "         )\n",
    "\n",
    "plt.show()"
   ]
  },
  {
   "cell_type": "markdown",
   "id": "f7e2a6bd",
   "metadata": {},
   "source": [
    "Clearly, the number of children for some entries seem to be incorrect, as some entries seem to have >10 children"
   ]
  },
  {
   "cell_type": "code",
   "execution_count": 204,
   "id": "8d718531",
   "metadata": {},
   "outputs": [
    {
     "name": "stdout",
     "output_type": "stream",
     "text": [
      "0    6832\n",
      "1    1889\n",
      "2     854\n",
      "3     127\n",
      "4      18\n",
      "5       5\n",
      "Name: CNT_CHILDREN, dtype: int64\n"
     ]
    }
   ],
   "source": [
    "# Remove erroneous data from \"CNT_CHILDREN\" category.\n",
    "# Criteria: If an entry has >5 children, treat as erroneous data\n",
    "# Counts the number of applicants with 0,1,...,5 children\n",
    "num_children = apps_merged[\"CNT_CHILDREN\"].value_counts()\n",
    "num_children = num_children.loc[num_children.keys() <= 5]\n",
    "\n",
    "print(num_children)"
   ]
  },
  {
   "cell_type": "code",
   "execution_count": 205,
   "id": "b80e3ffa",
   "metadata": {
    "scrolled": false
   },
   "outputs": [
    {
     "data": {
      "text/plain": [
       "[Text(0, 0, '6832'),\n",
       " Text(0, 0, '1889'),\n",
       " Text(0, 0, '854'),\n",
       " Text(0, 0, '127'),\n",
       " Text(0, 0, '18'),\n",
       " Text(0, 0, '5')]"
      ]
     },
     "execution_count": 205,
     "metadata": {},
     "output_type": "execute_result"
    },
    {
     "data": {
      "image/png": "[encoded data removed]",
      "text/plain": [
       "<Figure size 648x648 with 1 Axes>"
      ]
     },
     "metadata": {
      "needs_background": "light"
     },
     "output_type": "display_data"
    }
   ],
   "source": [
    "#Plot with subplots as we need to add the numerical values to bar chart\n",
    "fig, ax = plt.subplots(figsize=(9,9))\n",
    "bars = ax.bar(num_children.keys(), num_children)\n",
    "plt.title(\"Number of applicants with 0,1,...,5 children\",\n",
    "          fontdict={\"fontsize\": 18}\n",
    "         )\n",
    "ax.bar_label(bars)"
   ]
  },
  {
   "cell_type": "code",
   "execution_count": 206,
   "id": "7e23dd05",
   "metadata": {},
   "outputs": [
    {
     "data": {
      "text/plain": [
       "<matplotlib.collections.PathCollection at 0x18822868730>"
      ]
     },
     "execution_count": 206,
     "metadata": {},
     "output_type": "execute_result"
    },
    {
     "data": {
      "image/png": "[encoded data removed]",
      "text/plain": [
       "<Figure size 432x288 with 1 Axes>"
      ]
     },
     "metadata": {
      "needs_background": "light"
     },
     "output_type": "display_data"
    }
   ],
   "source": [
    "plt.scatter(apps_merged[\"RISK_SCORE\"], apps_merged[\"CNT_CHILDREN\"])"
   ]
  },
  {
   "cell_type": "code",
   "execution_count": 207,
   "id": "bd0c9d56",
   "metadata": {},
   "outputs": [
    {
     "data": {
      "text/plain": [
       "<matplotlib.collections.PathCollection at 0x18843713eb0>"
      ]
     },
     "execution_count": 207,
     "metadata": {},
     "output_type": "execute_result"
    },
    {
     "data": {
      "image/png": "[encoded data removed]",
      "text/plain": [
       "<Figure size 432x288 with 1 Axes>"
      ]
     },
     "metadata": {
      "needs_background": "light"
     },
     "output_type": "display_data"
    }
   ],
   "source": [
    "new_df = remove_outlier_df(apps_merged, \"AMT_INCOME_TOTAL\")\n",
    "plt.scatter(new_df[\"RISK_SCORE\"], new_df[\"AMT_INCOME_TOTAL\"])"
   ]
  },
  {
   "cell_type": "code",
   "execution_count": 208,
   "id": "3a7079db",
   "metadata": {},
   "outputs": [
    {
     "data": {
      "text/plain": [
       "(array([ 30., 237., 721., 399., 661., 434., 353., 207.,  51., 132.]),\n",
       " array([ 30150.,  66285., 102420., 138555., 174690., 210825., 246960.,\n",
       "        283095., 319230., 355365., 391500.]),\n",
       " <BarContainer object of 10 artists>)"
      ]
     },
     "execution_count": 208,
     "metadata": {},
     "output_type": "execute_result"
    },
    {
     "data": {
      "image/png": "[encoded data removed]",
      "text/plain": [
       "<Figure size 432x288 with 1 Axes>"
      ]
     },
     "metadata": {
      "needs_background": "light"
     },
     "output_type": "display_data"
    }
   ],
   "source": [
    "plt.hist(new_df.loc[new_df[\"CODE_GENDER\"]==\"M\", \"AMT_INCOME_TOTAL\"])"
   ]
  },
  {
   "cell_type": "code",
   "execution_count": 209,
   "id": "b9192917",
   "metadata": {},
   "outputs": [
    {
     "data": {
      "text/plain": [
       "(array([ 189., 1088., 1822.,  883.,  946.,  494.,  385.,  212.,   51.,\n",
       "         113.]),\n",
       " array([ 27000.,  63450.,  99900., 136350., 172800., 209250., 245700.,\n",
       "        282150., 318600., 355050., 391500.]),\n",
       " <BarContainer object of 10 artists>)"
      ]
     },
     "execution_count": 209,
     "metadata": {},
     "output_type": "execute_result"
    },
    {
     "data": {
      "image/png": "[encoded data removed]",
      "text/plain": [
       "<Figure size 432x288 with 1 Axes>"
      ]
     },
     "metadata": {
      "needs_background": "light"
     },
     "output_type": "display_data"
    }
   ],
   "source": [
    "plt.hist(new_df.loc[new_df[\"CODE_GENDER\"]==\"F\", \"AMT_INCOME_TOTAL\"])"
   ]
  }
 ],
 "metadata": {
  "kernelspec": {
   "display_name": "Python 3 (ipykernel)",
   "language": "python",
   "name": "python3"
  },
  "language_info": {
   "codemirror_mode": {
    "name": "ipython",
    "version": 3
   },
   "file_extension": ".py",
   "mimetype": "text/x-python",
   "name": "python",
   "nbconvert_exporter": "python",
   "pygments_lexer": "ipython3",
   "version": "3.9.7"
  }
 },
 "nbformat": 4,
 "nbformat_minor": 5
}
