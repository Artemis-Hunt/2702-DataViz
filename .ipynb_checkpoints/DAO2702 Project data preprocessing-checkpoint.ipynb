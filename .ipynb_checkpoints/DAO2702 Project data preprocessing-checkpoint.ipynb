{
 "cells": [
  {
   "cell_type": "markdown",
   "id": "5da99235",
   "metadata": {},
   "source": [
    "## 1. Import modules & csv files"
   ]
  },
  {
   "cell_type": "code",
   "execution_count": 339,
   "id": "a68e42c2",
   "metadata": {},
   "outputs": [
    {
     "name": "stdout",
     "output_type": "stream",
     "text": [
      "Total number of entries: 438557\n"
     ]
    },
    {
     "data": {
      "text/html": [
       "<div>\n",
       "<style scoped>\n",
       "    .dataframe tbody tr th:only-of-type {\n",
       "        vertical-align: middle;\n",
       "    }\n",
       "\n",
       "    .dataframe tbody tr th {\n",
       "        vertical-align: top;\n",
       "    }\n",
       "\n",
       "    .dataframe thead th {\n",
       "        text-align: right;\n",
       "    }\n",
       "</style>\n",
       "<table border=\"1\" class=\"dataframe\">\n",
       "  <thead>\n",
       "    <tr style=\"text-align: right;\">\n",
       "      <th></th>\n",
       "      <th>ID</th>\n",
       "      <th>CODE_GENDER</th>\n",
       "      <th>FLAG_OWN_CAR</th>\n",
       "      <th>FLAG_OWN_REALTY</th>\n",
       "      <th>CNT_CHILDREN</th>\n",
       "      <th>AMT_INCOME_TOTAL</th>\n",
       "      <th>NAME_INCOME_TYPE</th>\n",
       "      <th>NAME_EDUCATION_TYPE</th>\n",
       "      <th>NAME_FAMILY_STATUS</th>\n",
       "      <th>NAME_HOUSING_TYPE</th>\n",
       "      <th>DAYS_BIRTH</th>\n",
       "      <th>DAYS_EMPLOYED</th>\n",
       "      <th>FLAG_MOBIL</th>\n",
       "      <th>FLAG_WORK_PHONE</th>\n",
       "      <th>FLAG_PHONE</th>\n",
       "      <th>FLAG_EMAIL</th>\n",
       "      <th>OCCUPATION_TYPE</th>\n",
       "      <th>CNT_FAM_MEMBERS</th>\n",
       "    </tr>\n",
       "  </thead>\n",
       "  <tbody>\n",
       "    <tr>\n",
       "      <th>0</th>\n",
       "      <td>5008804</td>\n",
       "      <td>M</td>\n",
       "      <td>Y</td>\n",
       "      <td>Y</td>\n",
       "      <td>0</td>\n",
       "      <td>427500.0</td>\n",
       "      <td>Working</td>\n",
       "      <td>Higher education</td>\n",
       "      <td>Civil marriage</td>\n",
       "      <td>Rented apartment</td>\n",
       "      <td>-12005</td>\n",
       "      <td>-4542</td>\n",
       "      <td>1</td>\n",
       "      <td>1</td>\n",
       "      <td>0</td>\n",
       "      <td>0</td>\n",
       "      <td>NaN</td>\n",
       "      <td>2.0</td>\n",
       "    </tr>\n",
       "    <tr>\n",
       "      <th>1</th>\n",
       "      <td>5008805</td>\n",
       "      <td>M</td>\n",
       "      <td>Y</td>\n",
       "      <td>Y</td>\n",
       "      <td>0</td>\n",
       "      <td>427500.0</td>\n",
       "      <td>Working</td>\n",
       "      <td>Higher education</td>\n",
       "      <td>Civil marriage</td>\n",
       "      <td>Rented apartment</td>\n",
       "      <td>-12005</td>\n",
       "      <td>-4542</td>\n",
       "      <td>1</td>\n",
       "      <td>1</td>\n",
       "      <td>0</td>\n",
       "      <td>0</td>\n",
       "      <td>NaN</td>\n",
       "      <td>2.0</td>\n",
       "    </tr>\n",
       "    <tr>\n",
       "      <th>2</th>\n",
       "      <td>5008806</td>\n",
       "      <td>M</td>\n",
       "      <td>Y</td>\n",
       "      <td>Y</td>\n",
       "      <td>0</td>\n",
       "      <td>112500.0</td>\n",
       "      <td>Working</td>\n",
       "      <td>Secondary / secondary special</td>\n",
       "      <td>Married</td>\n",
       "      <td>House / apartment</td>\n",
       "      <td>-21474</td>\n",
       "      <td>-1134</td>\n",
       "      <td>1</td>\n",
       "      <td>0</td>\n",
       "      <td>0</td>\n",
       "      <td>0</td>\n",
       "      <td>Security staff</td>\n",
       "      <td>2.0</td>\n",
       "    </tr>\n",
       "    <tr>\n",
       "      <th>3</th>\n",
       "      <td>5008808</td>\n",
       "      <td>F</td>\n",
       "      <td>N</td>\n",
       "      <td>Y</td>\n",
       "      <td>0</td>\n",
       "      <td>270000.0</td>\n",
       "      <td>Commercial associate</td>\n",
       "      <td>Secondary / secondary special</td>\n",
       "      <td>Single / not married</td>\n",
       "      <td>House / apartment</td>\n",
       "      <td>-19110</td>\n",
       "      <td>-3051</td>\n",
       "      <td>1</td>\n",
       "      <td>0</td>\n",
       "      <td>1</td>\n",
       "      <td>1</td>\n",
       "      <td>Sales staff</td>\n",
       "      <td>1.0</td>\n",
       "    </tr>\n",
       "    <tr>\n",
       "      <th>4</th>\n",
       "      <td>5008809</td>\n",
       "      <td>F</td>\n",
       "      <td>N</td>\n",
       "      <td>Y</td>\n",
       "      <td>0</td>\n",
       "      <td>270000.0</td>\n",
       "      <td>Commercial associate</td>\n",
       "      <td>Secondary / secondary special</td>\n",
       "      <td>Single / not married</td>\n",
       "      <td>House / apartment</td>\n",
       "      <td>-19110</td>\n",
       "      <td>-3051</td>\n",
       "      <td>1</td>\n",
       "      <td>0</td>\n",
       "      <td>1</td>\n",
       "      <td>1</td>\n",
       "      <td>Sales staff</td>\n",
       "      <td>1.0</td>\n",
       "    </tr>\n",
       "  </tbody>\n",
       "</table>\n",
       "</div>"
      ],
      "text/plain": [
       "        ID CODE_GENDER FLAG_OWN_CAR FLAG_OWN_REALTY  CNT_CHILDREN  \\\n",
       "0  5008804           M            Y               Y             0   \n",
       "1  5008805           M            Y               Y             0   \n",
       "2  5008806           M            Y               Y             0   \n",
       "3  5008808           F            N               Y             0   \n",
       "4  5008809           F            N               Y             0   \n",
       "\n",
       "   AMT_INCOME_TOTAL      NAME_INCOME_TYPE            NAME_EDUCATION_TYPE  \\\n",
       "0          427500.0               Working               Higher education   \n",
       "1          427500.0               Working               Higher education   \n",
       "2          112500.0               Working  Secondary / secondary special   \n",
       "3          270000.0  Commercial associate  Secondary / secondary special   \n",
       "4          270000.0  Commercial associate  Secondary / secondary special   \n",
       "\n",
       "     NAME_FAMILY_STATUS  NAME_HOUSING_TYPE  DAYS_BIRTH  DAYS_EMPLOYED  \\\n",
       "0        Civil marriage   Rented apartment      -12005          -4542   \n",
       "1        Civil marriage   Rented apartment      -12005          -4542   \n",
       "2               Married  House / apartment      -21474          -1134   \n",
       "3  Single / not married  House / apartment      -19110          -3051   \n",
       "4  Single / not married  House / apartment      -19110          -3051   \n",
       "\n",
       "   FLAG_MOBIL  FLAG_WORK_PHONE  FLAG_PHONE  FLAG_EMAIL OCCUPATION_TYPE  \\\n",
       "0           1                1           0           0             NaN   \n",
       "1           1                1           0           0             NaN   \n",
       "2           1                0           0           0  Security staff   \n",
       "3           1                0           1           1     Sales staff   \n",
       "4           1                0           1           1     Sales staff   \n",
       "\n",
       "   CNT_FAM_MEMBERS  \n",
       "0              2.0  \n",
       "1              2.0  \n",
       "2              2.0  \n",
       "3              1.0  \n",
       "4              1.0  "
      ]
     },
     "execution_count": 339,
     "metadata": {},
     "output_type": "execute_result"
    }
   ],
   "source": [
    "import pandas as pd\n",
    "import matplotlib.pyplot as plt\n",
    "import numpy as np\n",
    "\n",
    "\n",
    "applications = pd.read_csv(\"application_record.csv\")\n",
    "credit_hist = pd.read_csv(\"credit_record.csv\")\n",
    "print(f\"Total number of entries: {applications.shape[0]}\")\n",
    "applications.head()"
   ]
  },
  {
   "cell_type": "code",
   "execution_count": 340,
   "id": "f6152b4a",
   "metadata": {},
   "outputs": [],
   "source": [
    "def remove_outlier_df(df_in, col_names):\n",
    "    '''\n",
    "    Remove outliers in a given column from a Pandas dataframe\n",
    "    Note: Removes the entry corresponding to outlier.\n",
    "    Uses +- 1.5 IQR as criteria\n",
    "    Warning: Modifies the input directly!\n",
    "    '''\n",
    "    if(isinstance(col_names, list)):\n",
    "        for col in col_names:\n",
    "            q1 = df_in[col].quantile(0.25)\n",
    "            q3 = df_in[col].quantile(0.75)\n",
    "            iqr = q3-q1\n",
    "            low  = q1-1.5*iqr\n",
    "            high = q3+1.5*iqr\n",
    "            df_in.drop(df_in[(df_in[col] < low) | (df_in[col] > high)].index, inplace=True)\n",
    "    elif isinstance(col_names, str):\n",
    "        q1 = df_in[col_names].quantile(0.25)\n",
    "        q3 = df_in[col_names].quantile(0.75)\n",
    "        iqr = q3-q1\n",
    "        low  = q1-1.5*iqr\n",
    "        high = q3+1.5*iqr\n",
    "        df_in.drop(df_in[(df_in[col_names] < low) | (df_in[col_names] > high)].index, inplace=True)\n",
    "\n",
    "\n",
    "def remove_outlier_series(series_in):\n",
    "    '''\n",
    "    Removes outliers from a pandas series\n",
    "    +- 1.5 IQR as outlier criteria\n",
    "    Warning: Modifies the input directly!\n",
    "    '''\n",
    "    q1 = series_in.quantile(0.25)\n",
    "    q3 = series_in.quantile(0.75)\n",
    "    iqr = q3-q1\n",
    "    low  = q1-1.5*iqr\n",
    "    high = q3+1.5*iqr\n",
    "    series.drop(series_in[(series_in < fence_low) | (series_in > fence_high)], inplace=True)"
   ]
  },
  {
   "cell_type": "markdown",
   "id": "7f8d941f",
   "metadata": {},
   "source": [
    "## 2. Pre-processing of application records\n",
    "Pre-processing done:\n",
    "- Remove duplicates\n",
    "- Remove outliers"
   ]
  },
  {
   "cell_type": "code",
   "execution_count": 341,
   "id": "b0064b61",
   "metadata": {},
   "outputs": [],
   "source": [
    "#Remove duplicate IDs, keep first occurence of that ID\n",
    "applications.drop_duplicates(\"ID\", keep=\"first\", inplace=True)"
   ]
  },
  {
   "cell_type": "markdown",
   "id": "6f018a52",
   "metadata": {},
   "source": [
    "### 2.1 Visualize some key variables"
   ]
  },
  {
   "cell_type": "code",
   "execution_count": 342,
   "id": "3a9f786e",
   "metadata": {
    "scrolled": false
   },
   "outputs": [
    {
     "data": {
      "text/plain": [
       "Text(0.5, 1.0, 'Number of family members')"
      ]
     },
     "execution_count": 342,
     "metadata": {},
     "output_type": "execute_result"
    },
    {
     "data": {
      "image/png": "[encoded data removed]",
      "text/plain": [
       "<Figure size 1080x1800 with 8 Axes>"
      ]
     },
     "metadata": {
      "needs_background": "light"
     },
     "output_type": "display_data"
    }
   ],
   "source": [
    "fig, axs = plt.subplots(4, 2,figsize=(15,25))\n",
    "# for ax in axs.flat:\n",
    "#     ax.set(xlabel=\"ID\")\n",
    "\n",
    "x = applications[\"ID\"]\n",
    "income_types = applications[\"NAME_INCOME_TYPE\"].value_counts()\n",
    "educ_types = applications[\"NAME_EDUCATION_TYPE\"].value_counts()\n",
    "family_statuses = applications[\"NAME_FAMILY_STATUS\"].value_counts()\n",
    "occupation_types = applications[\"OCCUPATION_TYPE\"].value_counts()\n",
    "\n",
    "\n",
    "axs[0,0].scatter(x, applications[\"CNT_CHILDREN\"], alpha=0.3)\n",
    "axs[0,0].set_title(\"Number of children\")\n",
    "axs[0,1].scatter(x, applications[\"AMT_INCOME_TOTAL\"], alpha=0.3)\n",
    "axs[0,1].set_title(\"Annual income\")\n",
    "\n",
    "income_type_bar = axs[1,0].bar(income_types.keys(), income_types)\n",
    "axs[1,0].bar_label(income_type_bar)\n",
    "axs[1,0].set_title(\"Income type\")\n",
    "\n",
    "educ_types_bar = axs[1,1].bar(educ_types.keys(), educ_types)\n",
    "axs[1,1].bar_label(educ_types_bar)\n",
    "axs[1,1].set_title(\"Education type\")\n",
    "\n",
    "family_statuses_bar = axs[2,0].bar(family_statuses.keys(), family_statuses)\n",
    "axs[2,0].bar_label(family_statuses_bar)\n",
    "axs[2,0].set_title(\"Family status\")\n",
    "\n",
    "axs[2,1].scatter(x, applications[\"DAYS_BIRTH\"], alpha=0.3)\n",
    "axs[2,1].set_title(\"Days birth\")\n",
    "axs[3,0].boxplot(applications[\"DAYS_EMPLOYED\"])\n",
    "axs[3,0].set_title(\"Days employed\")\n",
    "\n",
    "# occupation_types_bar = axs[3,1].bar(occupation_types.keys(), occupation_types)\n",
    "# axs[3,1].bar_label(occupation_types_bar)\n",
    "# axs[3,1].set_title(\"Occupation type\")\n",
    "axs[3,1].scatter(x, applications[\"CNT_FAM_MEMBERS\"], alpha=0.3)\n",
    "axs[3,1].set_title(\"Number of family members\")"
   ]
  },
  {
   "cell_type": "code",
   "execution_count": 343,
   "id": "788ebb62",
   "metadata": {},
   "outputs": [
    {
     "data": {
      "text/plain": [
       "75324"
      ]
     },
     "execution_count": 343,
     "metadata": {},
     "output_type": "execute_result"
    }
   ],
   "source": [
    "applications.loc[applications[\"DAYS_EMPLOYED\"] > 0].shape[0]"
   ]
  },
  {
   "cell_type": "markdown",
   "id": "02e5919e",
   "metadata": {},
   "source": [
    "From the above, there seems to be outliers in number of children, annual income, number of family members and days employed.\n",
    "\n",
    "We will drop outlier entries for the former 3.\n",
    "\n",
    "For days employed, we will drop the column entirely, as many entries seem to be misrecorded with value 365243."
   ]
  },
  {
   "cell_type": "code",
   "execution_count": 344,
   "id": "6c214a3e",
   "metadata": {
    "scrolled": false
   },
   "outputs": [
    {
     "data": {
      "text/plain": [
       "Text(0.5, 1.0, 'Occupation type')"
      ]
     },
     "execution_count": 344,
     "metadata": {},
     "output_type": "execute_result"
    },
    {
     "data": {
      "image/png": "[encoded data removed]",
      "text/plain": [
       "<Figure size 1440x1080 with 3 Axes>"
      ]
     },
     "metadata": {
      "needs_background": "light"
     },
     "output_type": "display_data"
    }
   ],
   "source": [
    "fig, axs = plt.subplots(3,1, figsize=(20,15))\n",
    "occupation_types_bar = axs[0].bar(occupation_types.keys(), occupation_types, width=0.5)\n",
    "axs[0].bar_label(occupation_types_bar)\n",
    "axs[0].tick_params(rotation=18)\n",
    "axs[0].set_title(\"Occupation type\")"
   ]
  },
  {
   "cell_type": "code",
   "execution_count": 345,
   "id": "cf1a5028",
   "metadata": {},
   "outputs": [],
   "source": [
    "applications.drop(\"DAYS_EMPLOYED\", axis=1, inplace=True)"
   ]
  },
  {
   "cell_type": "code",
   "execution_count": 346,
   "id": "7cb2e84b",
   "metadata": {},
   "outputs": [],
   "source": [
    "# Remove outliers\n",
    "remove_outlier_df(applications, \"AMT_INCOME_TOTAL\")\n",
    "\n",
    "#Outliers defined as >5 children and >8 family members\n",
    "applications.drop((applications[applications[\"CNT_CHILDREN\"] > 5]).index, inplace=True)\n",
    "applications.drop((applications[applications[\"CNT_FAM_MEMBERS\"] > 8]).index, inplace=True)"
   ]
  },
  {
   "cell_type": "code",
   "execution_count": 347,
   "id": "500f869b",
   "metadata": {},
   "outputs": [
    {
     "data": {
      "text/html": [
       "<div>\n",
       "<style scoped>\n",
       "    .dataframe tbody tr th:only-of-type {\n",
       "        vertical-align: middle;\n",
       "    }\n",
       "\n",
       "    .dataframe tbody tr th {\n",
       "        vertical-align: top;\n",
       "    }\n",
       "\n",
       "    .dataframe thead th {\n",
       "        text-align: right;\n",
       "    }\n",
       "</style>\n",
       "<table border=\"1\" class=\"dataframe\">\n",
       "  <thead>\n",
       "    <tr style=\"text-align: right;\">\n",
       "      <th></th>\n",
       "      <th>ID</th>\n",
       "      <th>CODE_GENDER</th>\n",
       "      <th>FLAG_OWN_CAR</th>\n",
       "      <th>FLAG_OWN_REALTY</th>\n",
       "      <th>CNT_CHILDREN</th>\n",
       "      <th>AMT_INCOME_TOTAL</th>\n",
       "      <th>NAME_INCOME_TYPE</th>\n",
       "      <th>NAME_EDUCATION_TYPE</th>\n",
       "      <th>NAME_FAMILY_STATUS</th>\n",
       "      <th>NAME_HOUSING_TYPE</th>\n",
       "      <th>DAYS_BIRTH</th>\n",
       "      <th>FLAG_MOBIL</th>\n",
       "      <th>FLAG_WORK_PHONE</th>\n",
       "      <th>FLAG_PHONE</th>\n",
       "      <th>FLAG_EMAIL</th>\n",
       "      <th>OCCUPATION_TYPE</th>\n",
       "      <th>CNT_FAM_MEMBERS</th>\n",
       "    </tr>\n",
       "  </thead>\n",
       "  <tbody>\n",
       "    <tr>\n",
       "      <th>2</th>\n",
       "      <td>5008806</td>\n",
       "      <td>M</td>\n",
       "      <td>Y</td>\n",
       "      <td>Y</td>\n",
       "      <td>0</td>\n",
       "      <td>112500.0</td>\n",
       "      <td>Working</td>\n",
       "      <td>Secondary / secondary special</td>\n",
       "      <td>Married</td>\n",
       "      <td>House / apartment</td>\n",
       "      <td>-21474</td>\n",
       "      <td>1</td>\n",
       "      <td>0</td>\n",
       "      <td>0</td>\n",
       "      <td>0</td>\n",
       "      <td>Security staff</td>\n",
       "      <td>2.0</td>\n",
       "    </tr>\n",
       "    <tr>\n",
       "      <th>3</th>\n",
       "      <td>5008808</td>\n",
       "      <td>F</td>\n",
       "      <td>N</td>\n",
       "      <td>Y</td>\n",
       "      <td>0</td>\n",
       "      <td>270000.0</td>\n",
       "      <td>Commercial associate</td>\n",
       "      <td>Secondary / secondary special</td>\n",
       "      <td>Single / not married</td>\n",
       "      <td>House / apartment</td>\n",
       "      <td>-19110</td>\n",
       "      <td>1</td>\n",
       "      <td>0</td>\n",
       "      <td>1</td>\n",
       "      <td>1</td>\n",
       "      <td>Sales staff</td>\n",
       "      <td>1.0</td>\n",
       "    </tr>\n",
       "    <tr>\n",
       "      <th>4</th>\n",
       "      <td>5008809</td>\n",
       "      <td>F</td>\n",
       "      <td>N</td>\n",
       "      <td>Y</td>\n",
       "      <td>0</td>\n",
       "      <td>270000.0</td>\n",
       "      <td>Commercial associate</td>\n",
       "      <td>Secondary / secondary special</td>\n",
       "      <td>Single / not married</td>\n",
       "      <td>House / apartment</td>\n",
       "      <td>-19110</td>\n",
       "      <td>1</td>\n",
       "      <td>0</td>\n",
       "      <td>1</td>\n",
       "      <td>1</td>\n",
       "      <td>Sales staff</td>\n",
       "      <td>1.0</td>\n",
       "    </tr>\n",
       "    <tr>\n",
       "      <th>5</th>\n",
       "      <td>5008810</td>\n",
       "      <td>F</td>\n",
       "      <td>N</td>\n",
       "      <td>Y</td>\n",
       "      <td>0</td>\n",
       "      <td>270000.0</td>\n",
       "      <td>Commercial associate</td>\n",
       "      <td>Secondary / secondary special</td>\n",
       "      <td>Single / not married</td>\n",
       "      <td>House / apartment</td>\n",
       "      <td>-19110</td>\n",
       "      <td>1</td>\n",
       "      <td>0</td>\n",
       "      <td>1</td>\n",
       "      <td>1</td>\n",
       "      <td>Sales staff</td>\n",
       "      <td>1.0</td>\n",
       "    </tr>\n",
       "    <tr>\n",
       "      <th>6</th>\n",
       "      <td>5008811</td>\n",
       "      <td>F</td>\n",
       "      <td>N</td>\n",
       "      <td>Y</td>\n",
       "      <td>0</td>\n",
       "      <td>270000.0</td>\n",
       "      <td>Commercial associate</td>\n",
       "      <td>Secondary / secondary special</td>\n",
       "      <td>Single / not married</td>\n",
       "      <td>House / apartment</td>\n",
       "      <td>-19110</td>\n",
       "      <td>1</td>\n",
       "      <td>0</td>\n",
       "      <td>1</td>\n",
       "      <td>1</td>\n",
       "      <td>Sales staff</td>\n",
       "      <td>1.0</td>\n",
       "    </tr>\n",
       "  </tbody>\n",
       "</table>\n",
       "</div>"
      ],
      "text/plain": [
       "        ID CODE_GENDER FLAG_OWN_CAR FLAG_OWN_REALTY  CNT_CHILDREN  \\\n",
       "2  5008806           M            Y               Y             0   \n",
       "3  5008808           F            N               Y             0   \n",
       "4  5008809           F            N               Y             0   \n",
       "5  5008810           F            N               Y             0   \n",
       "6  5008811           F            N               Y             0   \n",
       "\n",
       "   AMT_INCOME_TOTAL      NAME_INCOME_TYPE            NAME_EDUCATION_TYPE  \\\n",
       "2          112500.0               Working  Secondary / secondary special   \n",
       "3          270000.0  Commercial associate  Secondary / secondary special   \n",
       "4          270000.0  Commercial associate  Secondary / secondary special   \n",
       "5          270000.0  Commercial associate  Secondary / secondary special   \n",
       "6          270000.0  Commercial associate  Secondary / secondary special   \n",
       "\n",
       "     NAME_FAMILY_STATUS  NAME_HOUSING_TYPE  DAYS_BIRTH  FLAG_MOBIL  \\\n",
       "2               Married  House / apartment      -21474           1   \n",
       "3  Single / not married  House / apartment      -19110           1   \n",
       "4  Single / not married  House / apartment      -19110           1   \n",
       "5  Single / not married  House / apartment      -19110           1   \n",
       "6  Single / not married  House / apartment      -19110           1   \n",
       "\n",
       "   FLAG_WORK_PHONE  FLAG_PHONE  FLAG_EMAIL OCCUPATION_TYPE  CNT_FAM_MEMBERS  \n",
       "2                0           0           0  Security staff              2.0  \n",
       "3                0           1           1     Sales staff              1.0  \n",
       "4                0           1           1     Sales staff              1.0  \n",
       "5                0           1           1     Sales staff              1.0  \n",
       "6                0           1           1     Sales staff              1.0  "
      ]
     },
     "execution_count": 347,
     "metadata": {},
     "output_type": "execute_result"
    }
   ],
   "source": [
    "applications.head()"
   ]
  },
  {
   "cell_type": "code",
   "execution_count": 348,
   "id": "10411f49",
   "metadata": {},
   "outputs": [
    {
     "name": "stdout",
     "output_type": "stream",
     "text": [
      "<class 'pandas.core.frame.DataFrame'>\n",
      "Int64Index: 419378 entries, 2 to 438556\n",
      "Data columns (total 17 columns):\n",
      " #   Column               Non-Null Count   Dtype  \n",
      "---  ------               --------------   -----  \n",
      " 0   ID                   419378 non-null  int64  \n",
      " 1   CODE_GENDER          419378 non-null  object \n",
      " 2   FLAG_OWN_CAR         419378 non-null  object \n",
      " 3   FLAG_OWN_REALTY      419378 non-null  object \n",
      " 4   CNT_CHILDREN         419378 non-null  int64  \n",
      " 5   AMT_INCOME_TOTAL     419378 non-null  float64\n",
      " 6   NAME_INCOME_TYPE     419378 non-null  object \n",
      " 7   NAME_EDUCATION_TYPE  419378 non-null  object \n",
      " 8   NAME_FAMILY_STATUS   419378 non-null  object \n",
      " 9   NAME_HOUSING_TYPE    419378 non-null  object \n",
      " 10  DAYS_BIRTH           419378 non-null  int64  \n",
      " 11  FLAG_MOBIL           419378 non-null  int64  \n",
      " 12  FLAG_WORK_PHONE      419378 non-null  int64  \n",
      " 13  FLAG_PHONE           419378 non-null  int64  \n",
      " 14  FLAG_EMAIL           419378 non-null  int64  \n",
      " 15  OCCUPATION_TYPE      289730 non-null  object \n",
      " 16  CNT_FAM_MEMBERS      419378 non-null  float64\n",
      "dtypes: float64(2), int64(7), object(8)\n",
      "memory usage: 73.7+ MB\n"
     ]
    }
   ],
   "source": [
    "applications.info()"
   ]
  },
  {
   "cell_type": "markdown",
   "id": "aa44a378",
   "metadata": {},
   "source": [
    "Defining income groups (may be useful for data viz?)"
   ]
  },
  {
   "cell_type": "code",
   "execution_count": 349,
   "id": "e57fe3ee",
   "metadata": {},
   "outputs": [
    {
     "name": "stdout",
     "output_type": "stream",
     "text": [
      "[50000, 100000, 150000, 200000, 250000, 300000, 350000, 400000]\n"
     ]
    }
   ],
   "source": [
    "# Represents interval between each income group \n",
    "# e.g. 50000 means the groups are: <50k, 50k-100k, 100k-150k and so on\n",
    "\n",
    "INCOME_GROUP_INTERVAL = 50000\n",
    "\n",
    "\n",
    "# Define income groups. Numbers represent upper limit \n",
    "# e.g. 150000 means < 150000 and > 100000 (the previous number in the list)\n",
    "income_groups = []\n",
    "income_group_cutoff = INCOME_GROUP_INTERVAL\n",
    "while income_group_cutoff < apps[\"AMT_INCOME_TOTAL\"].max():\n",
    "    income_groups.append(income_group_cutoff)\n",
    "    income_group_cutoff += INCOME_GROUP_INTERVAL\n",
    "income_groups.append(income_group_cutoff)\n",
    "\n",
    "print(income_groups)"
   ]
  },
  {
   "cell_type": "code",
   "execution_count": 350,
   "id": "e53ff488",
   "metadata": {
    "scrolled": false
   },
   "outputs": [],
   "source": [
    "# app_income_groups = []\n",
    "# for income in income_groups:\n",
    "#     income_lower = income - INCOME_GROUP_INTERVAL\n",
    "#     app_income_groups.append(applications.loc[(applications[\"AMT_INCOME_TOTAL\"]<=income) & \n",
    "#                                                   (applications[\"AMT_INCOME_TOTAL\"]>income_lower),\n",
    "#                                                   [\"ID\", \"AMT_INCOME_TOTAL\"]])\n",
    "#     print(f\"Appended {income_lower} to {income}\")"
   ]
  },
  {
   "cell_type": "markdown",
   "id": "b42d42cb",
   "metadata": {},
   "source": [
    "## 3. Pre-processing of credit histories\n",
    "Pre-processing done:\n",
    "- Assign a \"risk score\" to each month's credit history record. Higher score means more risk of overdue/default.\n",
    "    - Step 1: Convert STATUS to range of 0 - 6 based on credit status\n",
    "    - Step 2: Risk score$={e^{x/e}-1}$, where x = STATUS. The idea is that extreme overdue (e.g. >150 days) is far riskier than 1~29 days overdue\n",
    "\n",
    "| Credit status                 |STATUS |RISK_SCORE|\n",
    "|:------------------------------|:------|:---------|\n",
    "| Paid-off loan or no loan      | 0     | 0        |\n",
    "| 1 ~ 29 days past due          | 1     | 0.4447   |\n",
    "| 30 ~ 59 days past due         | 2     | 1.0871   |\n",
    "| 60 ~ 89 days past due         | 3     | 2.0151   |\n",
    "| 90 ~ 119 days past due        | 4     | 3.3558   |\n",
    "| 120 ~ 149 days past due       | 5     | 5.2927   |\n",
    "| >150 days past due, write-off | 6     | 8.0909   |\n",
    "\n",
    "- Group entries by ID. Each ID now only has 1 entry instead of multiple entries"
   ]
  },
  {
   "cell_type": "code",
   "execution_count": 351,
   "id": "922199f9",
   "metadata": {},
   "outputs": [],
   "source": [
    "#Create a deep copy of credit_hist to avoid affecting original dataframe\n",
    "credit_hist_grouped = credit_hist.copy(deep=True)\n",
    "\n",
    "# Replace STATUS \"X\" and \"C\" with \"-1\"\n",
    "credit_hist_grouped[\"STATUS\"].replace([\"X\", \"C\"], \"-1\", inplace=True)\n",
    "\n",
    "# Convert from str to int \n",
    "credit_hist_grouped[\"STATUS\"] = credit_hist_grouped[\"STATUS\"].astype(int)\n",
    "\n",
    "# Convert status to risk score for that month\n",
    "e = 2.718281828 # Euler's number\n",
    "credit_hist_grouped[\"RISK_SCORE\"] = np.exp((credit_hist_grouped[\"STATUS\"] + 1) / e) - 1\n",
    "\n",
    "# Remove STATUS column\n",
    "credit_hist_grouped.drop([\"STATUS\"], axis=1, inplace=True)"
   ]
  },
  {
   "cell_type": "code",
   "execution_count": 352,
   "id": "7d0e13ed",
   "metadata": {},
   "outputs": [
    {
     "data": {
      "text/html": [
       "<div>\n",
       "<style scoped>\n",
       "    .dataframe tbody tr th:only-of-type {\n",
       "        vertical-align: middle;\n",
       "    }\n",
       "\n",
       "    .dataframe tbody tr th {\n",
       "        vertical-align: top;\n",
       "    }\n",
       "\n",
       "    .dataframe thead th {\n",
       "        text-align: right;\n",
       "    }\n",
       "</style>\n",
       "<table border=\"1\" class=\"dataframe\">\n",
       "  <thead>\n",
       "    <tr style=\"text-align: right;\">\n",
       "      <th></th>\n",
       "      <th>ID</th>\n",
       "      <th>MONTHS_BALANCE</th>\n",
       "      <th>RISK_SCORE</th>\n",
       "    </tr>\n",
       "  </thead>\n",
       "  <tbody>\n",
       "    <tr>\n",
       "      <th>224</th>\n",
       "      <td>5001720</td>\n",
       "      <td>0</td>\n",
       "      <td>1.087065</td>\n",
       "    </tr>\n",
       "    <tr>\n",
       "      <th>225</th>\n",
       "      <td>5001720</td>\n",
       "      <td>-1</td>\n",
       "      <td>0.444668</td>\n",
       "    </tr>\n",
       "    <tr>\n",
       "      <th>226</th>\n",
       "      <td>5001720</td>\n",
       "      <td>-2</td>\n",
       "      <td>0.444668</td>\n",
       "    </tr>\n",
       "    <tr>\n",
       "      <th>227</th>\n",
       "      <td>5001720</td>\n",
       "      <td>-3</td>\n",
       "      <td>1.087065</td>\n",
       "    </tr>\n",
       "    <tr>\n",
       "      <th>228</th>\n",
       "      <td>5001720</td>\n",
       "      <td>-4</td>\n",
       "      <td>1.087065</td>\n",
       "    </tr>\n",
       "    <tr>\n",
       "      <th>229</th>\n",
       "      <td>5001720</td>\n",
       "      <td>-5</td>\n",
       "      <td>0.444668</td>\n",
       "    </tr>\n",
       "    <tr>\n",
       "      <th>230</th>\n",
       "      <td>5001720</td>\n",
       "      <td>-6</td>\n",
       "      <td>1.087065</td>\n",
       "    </tr>\n",
       "    <tr>\n",
       "      <th>231</th>\n",
       "      <td>5001720</td>\n",
       "      <td>-7</td>\n",
       "      <td>1.087065</td>\n",
       "    </tr>\n",
       "    <tr>\n",
       "      <th>232</th>\n",
       "      <td>5001720</td>\n",
       "      <td>-8</td>\n",
       "      <td>0.444668</td>\n",
       "    </tr>\n",
       "    <tr>\n",
       "      <th>233</th>\n",
       "      <td>5001720</td>\n",
       "      <td>-9</td>\n",
       "      <td>0.444668</td>\n",
       "    </tr>\n",
       "    <tr>\n",
       "      <th>234</th>\n",
       "      <td>5001720</td>\n",
       "      <td>-10</td>\n",
       "      <td>0.444668</td>\n",
       "    </tr>\n",
       "  </tbody>\n",
       "</table>\n",
       "</div>"
      ],
      "text/plain": [
       "          ID  MONTHS_BALANCE  RISK_SCORE\n",
       "224  5001720               0    1.087065\n",
       "225  5001720              -1    0.444668\n",
       "226  5001720              -2    0.444668\n",
       "227  5001720              -3    1.087065\n",
       "228  5001720              -4    1.087065\n",
       "229  5001720              -5    0.444668\n",
       "230  5001720              -6    1.087065\n",
       "231  5001720              -7    1.087065\n",
       "232  5001720              -8    0.444668\n",
       "233  5001720              -9    0.444668\n",
       "234  5001720             -10    0.444668"
      ]
     },
     "execution_count": 352,
     "metadata": {},
     "output_type": "execute_result"
    }
   ],
   "source": [
    "#Visualize some of the entries\n",
    "credit_hist_grouped.iloc[224:235,:]"
   ]
  },
  {
   "cell_type": "code",
   "execution_count": 353,
   "id": "ada63feb",
   "metadata": {},
   "outputs": [],
   "source": [
    "# Record how many months ago was that particular record for, in terms of positive numbers (e.g. 1 month ago, 2 months ago)\n",
    "credit_hist_grouped[\"MONTHS_AGO\"] = credit_hist_grouped[\"MONTHS_BALANCE\"] * -1\n",
    "\n",
    "# Remove MONTHS_BALANCE column\n",
    "credit_hist_grouped.drop([\"MONTHS_BALANCE\"], axis=1, inplace=True)"
   ]
  },
  {
   "cell_type": "code",
   "execution_count": 354,
   "id": "75217c09",
   "metadata": {},
   "outputs": [],
   "source": [
    "# Collapse credit_hist, by grouping all the entries with the same ID together. \n",
    "# For MONTHS_AGO we take the max value amongst all entries with the same ID. \n",
    "# For RISK_SCORE we take average across all months for that person.\n",
    "\n",
    "credit_hist_agg = credit_hist_grouped.groupby([\"ID\"]).agg(\n",
    "    {\n",
    "        \"RISK_SCORE\": \"mean\",\n",
    "        \"MONTHS_AGO\": max\n",
    "    }\n",
    ")"
   ]
  },
  {
   "cell_type": "code",
   "execution_count": 355,
   "id": "1670420f",
   "metadata": {},
   "outputs": [],
   "source": [
    "# Record if the person has history of voerdue or not\n",
    "credit_hist_agg[\"HAS_OVERDUE\"] = (credit_hist_agg[\"RISK_SCORE\"] > 0).astype(int)"
   ]
  },
  {
   "cell_type": "code",
   "execution_count": 356,
   "id": "360fdbc2",
   "metadata": {},
   "outputs": [
    {
     "data": {
      "text/html": [
       "<div>\n",
       "<style scoped>\n",
       "    .dataframe tbody tr th:only-of-type {\n",
       "        vertical-align: middle;\n",
       "    }\n",
       "\n",
       "    .dataframe tbody tr th {\n",
       "        vertical-align: top;\n",
       "    }\n",
       "\n",
       "    .dataframe thead th {\n",
       "        text-align: right;\n",
       "    }\n",
       "</style>\n",
       "<table border=\"1\" class=\"dataframe\">\n",
       "  <thead>\n",
       "    <tr style=\"text-align: right;\">\n",
       "      <th></th>\n",
       "      <th>RISK_SCORE</th>\n",
       "      <th>HAS_OVERDUE</th>\n",
       "      <th>CREDIT_HIST_LEN</th>\n",
       "    </tr>\n",
       "    <tr>\n",
       "      <th>ID</th>\n",
       "      <th></th>\n",
       "      <th></th>\n",
       "      <th></th>\n",
       "    </tr>\n",
       "  </thead>\n",
       "  <tbody>\n",
       "    <tr>\n",
       "      <th>5001711</th>\n",
       "      <td>0.333501</td>\n",
       "      <td>1</td>\n",
       "      <td>4</td>\n",
       "    </tr>\n",
       "    <tr>\n",
       "      <th>5001712</th>\n",
       "      <td>0.234036</td>\n",
       "      <td>1</td>\n",
       "      <td>19</td>\n",
       "    </tr>\n",
       "    <tr>\n",
       "      <th>5001713</th>\n",
       "      <td>0.000000</td>\n",
       "      <td>0</td>\n",
       "      <td>22</td>\n",
       "    </tr>\n",
       "    <tr>\n",
       "      <th>5001714</th>\n",
       "      <td>0.000000</td>\n",
       "      <td>0</td>\n",
       "      <td>15</td>\n",
       "    </tr>\n",
       "    <tr>\n",
       "      <th>5001715</th>\n",
       "      <td>0.000000</td>\n",
       "      <td>0</td>\n",
       "      <td>60</td>\n",
       "    </tr>\n",
       "    <tr>\n",
       "      <th>5001717</th>\n",
       "      <td>0.343607</td>\n",
       "      <td>1</td>\n",
       "      <td>22</td>\n",
       "    </tr>\n",
       "    <tr>\n",
       "      <th>5001718</th>\n",
       "      <td>0.329389</td>\n",
       "      <td>1</td>\n",
       "      <td>39</td>\n",
       "    </tr>\n",
       "    <tr>\n",
       "      <th>5001719</th>\n",
       "      <td>0.020682</td>\n",
       "      <td>1</td>\n",
       "      <td>43</td>\n",
       "    </tr>\n",
       "    <tr>\n",
       "      <th>5001720</th>\n",
       "      <td>0.569578</td>\n",
       "      <td>1</td>\n",
       "      <td>36</td>\n",
       "    </tr>\n",
       "    <tr>\n",
       "      <th>5001723</th>\n",
       "      <td>0.114753</td>\n",
       "      <td>1</td>\n",
       "      <td>31</td>\n",
       "    </tr>\n",
       "  </tbody>\n",
       "</table>\n",
       "</div>"
      ],
      "text/plain": [
       "         RISK_SCORE  HAS_OVERDUE  CREDIT_HIST_LEN\n",
       "ID                                               \n",
       "5001711    0.333501            1                4\n",
       "5001712    0.234036            1               19\n",
       "5001713    0.000000            0               22\n",
       "5001714    0.000000            0               15\n",
       "5001715    0.000000            0               60\n",
       "5001717    0.343607            1               22\n",
       "5001718    0.329389            1               39\n",
       "5001719    0.020682            1               43\n",
       "5001720    0.569578            1               36\n",
       "5001723    0.114753            1               31"
      ]
     },
     "execution_count": 356,
     "metadata": {},
     "output_type": "execute_result"
    }
   ],
   "source": [
    "# CREDIT_HIST_LEN records the length of their credit history\n",
    "credit_hist_agg[\"CREDIT_HIST_LEN\"] = credit_hist_agg[\"MONTHS_AGO\"] + 1\n",
    "\n",
    "# Remove MONTHS_AGO column\n",
    "credit_hist_agg.drop([\"MONTHS_AGO\"], axis=1, inplace=True)\n",
    "\n",
    "credit_hist_agg.head(10)"
   ]
  },
  {
   "cell_type": "code",
   "execution_count": 357,
   "id": "75345df4",
   "metadata": {},
   "outputs": [
    {
     "name": "stdout",
     "output_type": "stream",
     "text": [
      "<class 'pandas.core.frame.DataFrame'>\n",
      "Int64Index: 419378 entries, 2 to 438556\n",
      "Data columns (total 17 columns):\n",
      " #   Column               Non-Null Count   Dtype  \n",
      "---  ------               --------------   -----  \n",
      " 0   ID                   419378 non-null  int64  \n",
      " 1   CODE_GENDER          419378 non-null  object \n",
      " 2   FLAG_OWN_CAR         419378 non-null  object \n",
      " 3   FLAG_OWN_REALTY      419378 non-null  object \n",
      " 4   CNT_CHILDREN         419378 non-null  int64  \n",
      " 5   AMT_INCOME_TOTAL     419378 non-null  float64\n",
      " 6   NAME_INCOME_TYPE     419378 non-null  object \n",
      " 7   NAME_EDUCATION_TYPE  419378 non-null  object \n",
      " 8   NAME_FAMILY_STATUS   419378 non-null  object \n",
      " 9   NAME_HOUSING_TYPE    419378 non-null  object \n",
      " 10  DAYS_BIRTH           419378 non-null  int64  \n",
      " 11  FLAG_MOBIL           419378 non-null  int64  \n",
      " 12  FLAG_WORK_PHONE      419378 non-null  int64  \n",
      " 13  FLAG_PHONE           419378 non-null  int64  \n",
      " 14  FLAG_EMAIL           419378 non-null  int64  \n",
      " 15  OCCUPATION_TYPE      289730 non-null  object \n",
      " 16  CNT_FAM_MEMBERS      419378 non-null  float64\n",
      "dtypes: float64(2), int64(7), object(8)\n",
      "memory usage: 73.7+ MB\n"
     ]
    }
   ],
   "source": [
    "applications.info()"
   ]
  },
  {
   "cell_type": "code",
   "execution_count": 358,
   "id": "9ab56d3c",
   "metadata": {},
   "outputs": [
    {
     "name": "stdout",
     "output_type": "stream",
     "text": [
      "<class 'pandas.core.frame.DataFrame'>\n",
      "Int64Index: 45985 entries, 5001711 to 5150487\n",
      "Data columns (total 3 columns):\n",
      " #   Column           Non-Null Count  Dtype  \n",
      "---  ------           --------------  -----  \n",
      " 0   RISK_SCORE       45985 non-null  float64\n",
      " 1   HAS_OVERDUE      45985 non-null  int32  \n",
      " 2   CREDIT_HIST_LEN  45985 non-null  int64  \n",
      "dtypes: float64(1), int32(1), int64(1)\n",
      "memory usage: 1.2 MB\n"
     ]
    }
   ],
   "source": [
    "credit_hist_agg.info()"
   ]
  },
  {
   "cell_type": "markdown",
   "id": "decd0faf",
   "metadata": {},
   "source": [
    "## 4. Merge the two dataframes together\n",
    "In essence, attaching the credit status & credit history length to each individual's profile.\n",
    "\n",
    "Only keep rows with IDs that appear in both application record and credit history \n",
    "- i.e. if a person has an application record but no credit history, we discard that entry"
   ]
  },
  {
   "cell_type": "code",
   "execution_count": 359,
   "id": "7c231016",
   "metadata": {
    "scrolled": false
   },
   "outputs": [
    {
     "data": {
      "text/html": [
       "<div>\n",
       "<style scoped>\n",
       "    .dataframe tbody tr th:only-of-type {\n",
       "        vertical-align: middle;\n",
       "    }\n",
       "\n",
       "    .dataframe tbody tr th {\n",
       "        vertical-align: top;\n",
       "    }\n",
       "\n",
       "    .dataframe thead th {\n",
       "        text-align: right;\n",
       "    }\n",
       "</style>\n",
       "<table border=\"1\" class=\"dataframe\">\n",
       "  <thead>\n",
       "    <tr style=\"text-align: right;\">\n",
       "      <th></th>\n",
       "      <th>ID</th>\n",
       "      <th>CODE_GENDER</th>\n",
       "      <th>FLAG_OWN_CAR</th>\n",
       "      <th>FLAG_OWN_REALTY</th>\n",
       "      <th>CNT_CHILDREN</th>\n",
       "      <th>AMT_INCOME_TOTAL</th>\n",
       "      <th>NAME_INCOME_TYPE</th>\n",
       "      <th>NAME_EDUCATION_TYPE</th>\n",
       "      <th>NAME_FAMILY_STATUS</th>\n",
       "      <th>NAME_HOUSING_TYPE</th>\n",
       "      <th>DAYS_BIRTH</th>\n",
       "      <th>FLAG_MOBIL</th>\n",
       "      <th>FLAG_WORK_PHONE</th>\n",
       "      <th>FLAG_PHONE</th>\n",
       "      <th>FLAG_EMAIL</th>\n",
       "      <th>OCCUPATION_TYPE</th>\n",
       "      <th>CNT_FAM_MEMBERS</th>\n",
       "      <th>RISK_SCORE</th>\n",
       "      <th>HAS_OVERDUE</th>\n",
       "      <th>CREDIT_HIST_LEN</th>\n",
       "    </tr>\n",
       "  </thead>\n",
       "  <tbody>\n",
       "    <tr>\n",
       "      <th>0</th>\n",
       "      <td>5008806</td>\n",
       "      <td>M</td>\n",
       "      <td>Y</td>\n",
       "      <td>Y</td>\n",
       "      <td>0</td>\n",
       "      <td>112500.0</td>\n",
       "      <td>Working</td>\n",
       "      <td>Secondary / secondary special</td>\n",
       "      <td>Married</td>\n",
       "      <td>House / apartment</td>\n",
       "      <td>-21474</td>\n",
       "      <td>1</td>\n",
       "      <td>0</td>\n",
       "      <td>0</td>\n",
       "      <td>0</td>\n",
       "      <td>Security staff</td>\n",
       "      <td>2.0</td>\n",
       "      <td>0.103756</td>\n",
       "      <td>1</td>\n",
       "      <td>30</td>\n",
       "    </tr>\n",
       "    <tr>\n",
       "      <th>1</th>\n",
       "      <td>5008808</td>\n",
       "      <td>F</td>\n",
       "      <td>N</td>\n",
       "      <td>Y</td>\n",
       "      <td>0</td>\n",
       "      <td>270000.0</td>\n",
       "      <td>Commercial associate</td>\n",
       "      <td>Secondary / secondary special</td>\n",
       "      <td>Single / not married</td>\n",
       "      <td>House / apartment</td>\n",
       "      <td>-19110</td>\n",
       "      <td>1</td>\n",
       "      <td>0</td>\n",
       "      <td>1</td>\n",
       "      <td>1</td>\n",
       "      <td>Sales staff</td>\n",
       "      <td>1.0</td>\n",
       "      <td>0.177867</td>\n",
       "      <td>1</td>\n",
       "      <td>5</td>\n",
       "    </tr>\n",
       "    <tr>\n",
       "      <th>2</th>\n",
       "      <td>5008809</td>\n",
       "      <td>F</td>\n",
       "      <td>N</td>\n",
       "      <td>Y</td>\n",
       "      <td>0</td>\n",
       "      <td>270000.0</td>\n",
       "      <td>Commercial associate</td>\n",
       "      <td>Secondary / secondary special</td>\n",
       "      <td>Single / not married</td>\n",
       "      <td>House / apartment</td>\n",
       "      <td>-19110</td>\n",
       "      <td>1</td>\n",
       "      <td>0</td>\n",
       "      <td>1</td>\n",
       "      <td>1</td>\n",
       "      <td>Sales staff</td>\n",
       "      <td>1.0</td>\n",
       "      <td>0.000000</td>\n",
       "      <td>0</td>\n",
       "      <td>27</td>\n",
       "    </tr>\n",
       "    <tr>\n",
       "      <th>3</th>\n",
       "      <td>5008810</td>\n",
       "      <td>F</td>\n",
       "      <td>N</td>\n",
       "      <td>Y</td>\n",
       "      <td>0</td>\n",
       "      <td>270000.0</td>\n",
       "      <td>Commercial associate</td>\n",
       "      <td>Secondary / secondary special</td>\n",
       "      <td>Single / not married</td>\n",
       "      <td>House / apartment</td>\n",
       "      <td>-19110</td>\n",
       "      <td>1</td>\n",
       "      <td>0</td>\n",
       "      <td>1</td>\n",
       "      <td>1</td>\n",
       "      <td>Sales staff</td>\n",
       "      <td>1.0</td>\n",
       "      <td>0.098815</td>\n",
       "      <td>1</td>\n",
       "      <td>27</td>\n",
       "    </tr>\n",
       "    <tr>\n",
       "      <th>4</th>\n",
       "      <td>5008811</td>\n",
       "      <td>F</td>\n",
       "      <td>N</td>\n",
       "      <td>Y</td>\n",
       "      <td>0</td>\n",
       "      <td>270000.0</td>\n",
       "      <td>Commercial associate</td>\n",
       "      <td>Secondary / secondary special</td>\n",
       "      <td>Single / not married</td>\n",
       "      <td>House / apartment</td>\n",
       "      <td>-19110</td>\n",
       "      <td>1</td>\n",
       "      <td>0</td>\n",
       "      <td>1</td>\n",
       "      <td>1</td>\n",
       "      <td>Sales staff</td>\n",
       "      <td>1.0</td>\n",
       "      <td>0.068410</td>\n",
       "      <td>1</td>\n",
       "      <td>39</td>\n",
       "    </tr>\n",
       "  </tbody>\n",
       "</table>\n",
       "</div>"
      ],
      "text/plain": [
       "        ID CODE_GENDER FLAG_OWN_CAR FLAG_OWN_REALTY  CNT_CHILDREN  \\\n",
       "0  5008806           M            Y               Y             0   \n",
       "1  5008808           F            N               Y             0   \n",
       "2  5008809           F            N               Y             0   \n",
       "3  5008810           F            N               Y             0   \n",
       "4  5008811           F            N               Y             0   \n",
       "\n",
       "   AMT_INCOME_TOTAL      NAME_INCOME_TYPE            NAME_EDUCATION_TYPE  \\\n",
       "0          112500.0               Working  Secondary / secondary special   \n",
       "1          270000.0  Commercial associate  Secondary / secondary special   \n",
       "2          270000.0  Commercial associate  Secondary / secondary special   \n",
       "3          270000.0  Commercial associate  Secondary / secondary special   \n",
       "4          270000.0  Commercial associate  Secondary / secondary special   \n",
       "\n",
       "     NAME_FAMILY_STATUS  NAME_HOUSING_TYPE  DAYS_BIRTH  FLAG_MOBIL  \\\n",
       "0               Married  House / apartment      -21474           1   \n",
       "1  Single / not married  House / apartment      -19110           1   \n",
       "2  Single / not married  House / apartment      -19110           1   \n",
       "3  Single / not married  House / apartment      -19110           1   \n",
       "4  Single / not married  House / apartment      -19110           1   \n",
       "\n",
       "   FLAG_WORK_PHONE  FLAG_PHONE  FLAG_EMAIL OCCUPATION_TYPE  CNT_FAM_MEMBERS  \\\n",
       "0                0           0           0  Security staff              2.0   \n",
       "1                0           1           1     Sales staff              1.0   \n",
       "2                0           1           1     Sales staff              1.0   \n",
       "3                0           1           1     Sales staff              1.0   \n",
       "4                0           1           1     Sales staff              1.0   \n",
       "\n",
       "   RISK_SCORE  HAS_OVERDUE  CREDIT_HIST_LEN  \n",
       "0    0.103756            1               30  \n",
       "1    0.177867            1                5  \n",
       "2    0.000000            0               27  \n",
       "3    0.098815            1               27  \n",
       "4    0.068410            1               39  "
      ]
     },
     "execution_count": 359,
     "metadata": {},
     "output_type": "execute_result"
    }
   ],
   "source": [
    "# Merge the two dataframes together\n",
    "apps_merged = pd.merge(applications, credit_hist_agg, how=\"inner\", on=\"ID\")\n",
    "\n",
    "apps_merged.head()"
   ]
  },
  {
   "cell_type": "markdown",
   "id": "59967654",
   "metadata": {},
   "source": [
    "However, there are many entries that have different credit histories and IDs but have the same values for ALL other columns. \n",
    "\n",
    "Chances of two people having the exact same gender, own a car, own a house, number of children, annual income, ... , number of family members is infinitely low. Hence most likely to be duplicated entries\n",
    "\n",
    "Remove these duplicated entries, keeping the entry with longest credit history (rationale: more months of data available)"
   ]
  },
  {
   "cell_type": "code",
   "execution_count": 360,
   "id": "9fd5de27",
   "metadata": {},
   "outputs": [
    {
     "name": "stdout",
     "output_type": "stream",
     "text": [
      "['CODE_GENDER', 'FLAG_OWN_CAR', 'FLAG_OWN_REALTY', 'CNT_CHILDREN', 'AMT_INCOME_TOTAL', 'NAME_INCOME_TYPE', 'NAME_EDUCATION_TYPE', 'NAME_FAMILY_STATUS', 'NAME_HOUSING_TYPE', 'DAYS_BIRTH', 'FLAG_MOBIL', 'FLAG_WORK_PHONE', 'FLAG_PHONE', 'FLAG_EMAIL', 'OCCUPATION_TYPE', 'CNT_FAM_MEMBERS']\n",
      "<class 'pandas.core.frame.DataFrame'>\n",
      "Int64Index: 9353 entries, 33733 to 18421\n",
      "Data columns (total 20 columns):\n",
      " #   Column               Non-Null Count  Dtype  \n",
      "---  ------               --------------  -----  \n",
      " 0   ID                   9353 non-null   int64  \n",
      " 1   CODE_GENDER          9353 non-null   object \n",
      " 2   FLAG_OWN_CAR         9353 non-null   object \n",
      " 3   FLAG_OWN_REALTY      9353 non-null   object \n",
      " 4   CNT_CHILDREN         9353 non-null   int64  \n",
      " 5   AMT_INCOME_TOTAL     9353 non-null   float64\n",
      " 6   NAME_INCOME_TYPE     9353 non-null   object \n",
      " 7   NAME_EDUCATION_TYPE  9353 non-null   object \n",
      " 8   NAME_FAMILY_STATUS   9353 non-null   object \n",
      " 9   NAME_HOUSING_TYPE    9353 non-null   object \n",
      " 10  DAYS_BIRTH           9353 non-null   int64  \n",
      " 11  FLAG_MOBIL           9353 non-null   int64  \n",
      " 12  FLAG_WORK_PHONE      9353 non-null   int64  \n",
      " 13  FLAG_PHONE           9353 non-null   int64  \n",
      " 14  FLAG_EMAIL           9353 non-null   int64  \n",
      " 15  OCCUPATION_TYPE      6444 non-null   object \n",
      " 16  CNT_FAM_MEMBERS      9353 non-null   float64\n",
      " 17  RISK_SCORE           9353 non-null   float64\n",
      " 18  HAS_OVERDUE          9353 non-null   int32  \n",
      " 19  CREDIT_HIST_LEN      9353 non-null   int64  \n",
      "dtypes: float64(3), int32(1), int64(8), object(8)\n",
      "memory usage: 1.5+ MB\n"
     ]
    }
   ],
   "source": [
    "# Collect list of column names in application record\n",
    "columns = list(applications.columns)\n",
    "columns.remove(\"ID\")\n",
    "print(columns)\n",
    "\n",
    "# Remove duplicated entries (with same gender, own a car, ..., family members), keeping entry with longest credit history\n",
    "apps_merged = apps_merged.sort_values(\"CREDIT_HIST_LEN\", ascending=False).drop_duplicates(subset=columns)\n",
    "apps_merged.sort_index()\n",
    "\n",
    "apps_merged.info()"
   ]
  },
  {
   "cell_type": "code",
   "execution_count": 361,
   "id": "81ebc3e5",
   "metadata": {},
   "outputs": [],
   "source": [
    "# Remove OCCUPATION_TYPE as it has many null values, as can be seen from the info() above\n",
    "apps_merged.drop([\"OCCUPATION_TYPE\"], axis=1, inplace=True)"
   ]
  },
  {
   "cell_type": "markdown",
   "id": "dfa70841",
   "metadata": {},
   "source": [
    "Place entries into income groups.\n",
    "\n",
    "Group 1: <50k\n",
    "\n",
    "Group 2: <100k\n",
    "\n",
    "and so on"
   ]
  },
  {
   "cell_type": "code",
   "execution_count": 379,
   "id": "52ad9425",
   "metadata": {},
   "outputs": [
    {
     "data": {
      "text/html": [
       "<div>\n",
       "<style scoped>\n",
       "    .dataframe tbody tr th:only-of-type {\n",
       "        vertical-align: middle;\n",
       "    }\n",
       "\n",
       "    .dataframe tbody tr th {\n",
       "        vertical-align: top;\n",
       "    }\n",
       "\n",
       "    .dataframe thead th {\n",
       "        text-align: right;\n",
       "    }\n",
       "</style>\n",
       "<table border=\"1\" class=\"dataframe\">\n",
       "  <thead>\n",
       "    <tr style=\"text-align: right;\">\n",
       "      <th></th>\n",
       "      <th>ID</th>\n",
       "      <th>CODE_GENDER</th>\n",
       "      <th>FLAG_OWN_CAR</th>\n",
       "      <th>FLAG_OWN_REALTY</th>\n",
       "      <th>CNT_CHILDREN</th>\n",
       "      <th>AMT_INCOME_TOTAL</th>\n",
       "      <th>NAME_INCOME_TYPE</th>\n",
       "      <th>NAME_EDUCATION_TYPE</th>\n",
       "      <th>NAME_FAMILY_STATUS</th>\n",
       "      <th>NAME_HOUSING_TYPE</th>\n",
       "      <th>DAYS_BIRTH</th>\n",
       "      <th>FLAG_MOBIL</th>\n",
       "      <th>FLAG_WORK_PHONE</th>\n",
       "      <th>FLAG_PHONE</th>\n",
       "      <th>FLAG_EMAIL</th>\n",
       "      <th>CNT_FAM_MEMBERS</th>\n",
       "      <th>RISK_SCORE</th>\n",
       "      <th>HAS_OVERDUE</th>\n",
       "      <th>CREDIT_HIST_LEN</th>\n",
       "      <th>INCOME_GROUP</th>\n",
       "    </tr>\n",
       "  </thead>\n",
       "  <tbody>\n",
       "    <tr>\n",
       "      <th>33733</th>\n",
       "      <td>5149057</td>\n",
       "      <td>F</td>\n",
       "      <td>N</td>\n",
       "      <td>Y</td>\n",
       "      <td>0</td>\n",
       "      <td>180000.0</td>\n",
       "      <td>State servant</td>\n",
       "      <td>Secondary / secondary special</td>\n",
       "      <td>Married</td>\n",
       "      <td>Municipal apartment</td>\n",
       "      <td>-19161</td>\n",
       "      <td>1</td>\n",
       "      <td>0</td>\n",
       "      <td>0</td>\n",
       "      <td>0</td>\n",
       "      <td>2.0</td>\n",
       "      <td>0.312436</td>\n",
       "      <td>1</td>\n",
       "      <td>61</td>\n",
       "      <td>4</td>\n",
       "    </tr>\n",
       "    <tr>\n",
       "      <th>11015</th>\n",
       "      <td>5048026</td>\n",
       "      <td>M</td>\n",
       "      <td>Y</td>\n",
       "      <td>Y</td>\n",
       "      <td>2</td>\n",
       "      <td>180000.0</td>\n",
       "      <td>Working</td>\n",
       "      <td>Secondary / secondary special</td>\n",
       "      <td>Civil marriage</td>\n",
       "      <td>House / apartment</td>\n",
       "      <td>-13059</td>\n",
       "      <td>1</td>\n",
       "      <td>0</td>\n",
       "      <td>0</td>\n",
       "      <td>0</td>\n",
       "      <td>4.0</td>\n",
       "      <td>0.111167</td>\n",
       "      <td>1</td>\n",
       "      <td>61</td>\n",
       "      <td>4</td>\n",
       "    </tr>\n",
       "    <tr>\n",
       "      <th>29871</th>\n",
       "      <td>5126651</td>\n",
       "      <td>F</td>\n",
       "      <td>N</td>\n",
       "      <td>Y</td>\n",
       "      <td>1</td>\n",
       "      <td>112500.0</td>\n",
       "      <td>Working</td>\n",
       "      <td>Secondary / secondary special</td>\n",
       "      <td>Married</td>\n",
       "      <td>House / apartment</td>\n",
       "      <td>-10989</td>\n",
       "      <td>1</td>\n",
       "      <td>1</td>\n",
       "      <td>1</td>\n",
       "      <td>0</td>\n",
       "      <td>3.0</td>\n",
       "      <td>0.000000</td>\n",
       "      <td>0</td>\n",
       "      <td>61</td>\n",
       "      <td>3</td>\n",
       "    </tr>\n",
       "    <tr>\n",
       "      <th>22980</th>\n",
       "      <td>5096451</td>\n",
       "      <td>F</td>\n",
       "      <td>N</td>\n",
       "      <td>N</td>\n",
       "      <td>1</td>\n",
       "      <td>144000.0</td>\n",
       "      <td>Commercial associate</td>\n",
       "      <td>Higher education</td>\n",
       "      <td>Married</td>\n",
       "      <td>House / apartment</td>\n",
       "      <td>-12753</td>\n",
       "      <td>1</td>\n",
       "      <td>1</td>\n",
       "      <td>1</td>\n",
       "      <td>0</td>\n",
       "      <td>3.0</td>\n",
       "      <td>0.135871</td>\n",
       "      <td>1</td>\n",
       "      <td>61</td>\n",
       "      <td>3</td>\n",
       "    </tr>\n",
       "    <tr>\n",
       "      <th>25334</th>\n",
       "      <td>5112636</td>\n",
       "      <td>F</td>\n",
       "      <td>N</td>\n",
       "      <td>Y</td>\n",
       "      <td>0</td>\n",
       "      <td>157500.0</td>\n",
       "      <td>State servant</td>\n",
       "      <td>Secondary / secondary special</td>\n",
       "      <td>Civil marriage</td>\n",
       "      <td>House / apartment</td>\n",
       "      <td>-12942</td>\n",
       "      <td>1</td>\n",
       "      <td>0</td>\n",
       "      <td>0</td>\n",
       "      <td>0</td>\n",
       "      <td>2.0</td>\n",
       "      <td>0.098007</td>\n",
       "      <td>1</td>\n",
       "      <td>61</td>\n",
       "      <td>4</td>\n",
       "    </tr>\n",
       "    <tr>\n",
       "      <th>...</th>\n",
       "      <td>...</td>\n",
       "      <td>...</td>\n",
       "      <td>...</td>\n",
       "      <td>...</td>\n",
       "      <td>...</td>\n",
       "      <td>...</td>\n",
       "      <td>...</td>\n",
       "      <td>...</td>\n",
       "      <td>...</td>\n",
       "      <td>...</td>\n",
       "      <td>...</td>\n",
       "      <td>...</td>\n",
       "      <td>...</td>\n",
       "      <td>...</td>\n",
       "      <td>...</td>\n",
       "      <td>...</td>\n",
       "      <td>...</td>\n",
       "      <td>...</td>\n",
       "      <td>...</td>\n",
       "      <td>...</td>\n",
       "    </tr>\n",
       "    <tr>\n",
       "      <th>18197</th>\n",
       "      <td>5079047</td>\n",
       "      <td>M</td>\n",
       "      <td>Y</td>\n",
       "      <td>Y</td>\n",
       "      <td>1</td>\n",
       "      <td>270000.0</td>\n",
       "      <td>Working</td>\n",
       "      <td>Secondary / secondary special</td>\n",
       "      <td>Married</td>\n",
       "      <td>House / apartment</td>\n",
       "      <td>-10119</td>\n",
       "      <td>1</td>\n",
       "      <td>1</td>\n",
       "      <td>0</td>\n",
       "      <td>0</td>\n",
       "      <td>3.0</td>\n",
       "      <td>0.444668</td>\n",
       "      <td>1</td>\n",
       "      <td>1</td>\n",
       "      <td>6</td>\n",
       "    </tr>\n",
       "    <tr>\n",
       "      <th>30391</th>\n",
       "      <td>5135310</td>\n",
       "      <td>F</td>\n",
       "      <td>N</td>\n",
       "      <td>N</td>\n",
       "      <td>1</td>\n",
       "      <td>225000.0</td>\n",
       "      <td>Commercial associate</td>\n",
       "      <td>Secondary / secondary special</td>\n",
       "      <td>Civil marriage</td>\n",
       "      <td>House / apartment</td>\n",
       "      <td>-14765</td>\n",
       "      <td>1</td>\n",
       "      <td>0</td>\n",
       "      <td>0</td>\n",
       "      <td>0</td>\n",
       "      <td>3.0</td>\n",
       "      <td>0.444668</td>\n",
       "      <td>1</td>\n",
       "      <td>1</td>\n",
       "      <td>5</td>\n",
       "    </tr>\n",
       "    <tr>\n",
       "      <th>8383</th>\n",
       "      <td>5038594</td>\n",
       "      <td>M</td>\n",
       "      <td>N</td>\n",
       "      <td>N</td>\n",
       "      <td>0</td>\n",
       "      <td>180000.0</td>\n",
       "      <td>Working</td>\n",
       "      <td>Secondary / secondary special</td>\n",
       "      <td>Single / not married</td>\n",
       "      <td>House / apartment</td>\n",
       "      <td>-18158</td>\n",
       "      <td>1</td>\n",
       "      <td>0</td>\n",
       "      <td>0</td>\n",
       "      <td>0</td>\n",
       "      <td>1.0</td>\n",
       "      <td>0.000000</td>\n",
       "      <td>0</td>\n",
       "      <td>1</td>\n",
       "      <td>4</td>\n",
       "    </tr>\n",
       "    <tr>\n",
       "      <th>21665</th>\n",
       "      <td>5092092</td>\n",
       "      <td>F</td>\n",
       "      <td>N</td>\n",
       "      <td>Y</td>\n",
       "      <td>1</td>\n",
       "      <td>144000.0</td>\n",
       "      <td>Commercial associate</td>\n",
       "      <td>Secondary / secondary special</td>\n",
       "      <td>Single / not married</td>\n",
       "      <td>House / apartment</td>\n",
       "      <td>-14095</td>\n",
       "      <td>1</td>\n",
       "      <td>1</td>\n",
       "      <td>1</td>\n",
       "      <td>0</td>\n",
       "      <td>2.0</td>\n",
       "      <td>0.000000</td>\n",
       "      <td>0</td>\n",
       "      <td>1</td>\n",
       "      <td>3</td>\n",
       "    </tr>\n",
       "    <tr>\n",
       "      <th>18421</th>\n",
       "      <td>5085717</td>\n",
       "      <td>F</td>\n",
       "      <td>N</td>\n",
       "      <td>N</td>\n",
       "      <td>0</td>\n",
       "      <td>225000.0</td>\n",
       "      <td>Working</td>\n",
       "      <td>Higher education</td>\n",
       "      <td>Married</td>\n",
       "      <td>House / apartment</td>\n",
       "      <td>-16837</td>\n",
       "      <td>1</td>\n",
       "      <td>0</td>\n",
       "      <td>0</td>\n",
       "      <td>0</td>\n",
       "      <td>2.0</td>\n",
       "      <td>0.444668</td>\n",
       "      <td>1</td>\n",
       "      <td>1</td>\n",
       "      <td>5</td>\n",
       "    </tr>\n",
       "  </tbody>\n",
       "</table>\n",
       "<p>9251 rows × 20 columns</p>\n",
       "</div>"
      ],
      "text/plain": [
       "            ID CODE_GENDER FLAG_OWN_CAR FLAG_OWN_REALTY  CNT_CHILDREN  \\\n",
       "33733  5149057           F            N               Y             0   \n",
       "11015  5048026           M            Y               Y             2   \n",
       "29871  5126651           F            N               Y             1   \n",
       "22980  5096451           F            N               N             1   \n",
       "25334  5112636           F            N               Y             0   \n",
       "...        ...         ...          ...             ...           ...   \n",
       "18197  5079047           M            Y               Y             1   \n",
       "30391  5135310           F            N               N             1   \n",
       "8383   5038594           M            N               N             0   \n",
       "21665  5092092           F            N               Y             1   \n",
       "18421  5085717           F            N               N             0   \n",
       "\n",
       "       AMT_INCOME_TOTAL      NAME_INCOME_TYPE            NAME_EDUCATION_TYPE  \\\n",
       "33733          180000.0         State servant  Secondary / secondary special   \n",
       "11015          180000.0               Working  Secondary / secondary special   \n",
       "29871          112500.0               Working  Secondary / secondary special   \n",
       "22980          144000.0  Commercial associate               Higher education   \n",
       "25334          157500.0         State servant  Secondary / secondary special   \n",
       "...                 ...                   ...                            ...   \n",
       "18197          270000.0               Working  Secondary / secondary special   \n",
       "30391          225000.0  Commercial associate  Secondary / secondary special   \n",
       "8383           180000.0               Working  Secondary / secondary special   \n",
       "21665          144000.0  Commercial associate  Secondary / secondary special   \n",
       "18421          225000.0               Working               Higher education   \n",
       "\n",
       "         NAME_FAMILY_STATUS    NAME_HOUSING_TYPE  DAYS_BIRTH  FLAG_MOBIL  \\\n",
       "33733               Married  Municipal apartment      -19161           1   \n",
       "11015        Civil marriage    House / apartment      -13059           1   \n",
       "29871               Married    House / apartment      -10989           1   \n",
       "22980               Married    House / apartment      -12753           1   \n",
       "25334        Civil marriage    House / apartment      -12942           1   \n",
       "...                     ...                  ...         ...         ...   \n",
       "18197               Married    House / apartment      -10119           1   \n",
       "30391        Civil marriage    House / apartment      -14765           1   \n",
       "8383   Single / not married    House / apartment      -18158           1   \n",
       "21665  Single / not married    House / apartment      -14095           1   \n",
       "18421               Married    House / apartment      -16837           1   \n",
       "\n",
       "       FLAG_WORK_PHONE  FLAG_PHONE  FLAG_EMAIL  CNT_FAM_MEMBERS  RISK_SCORE  \\\n",
       "33733                0           0           0              2.0    0.312436   \n",
       "11015                0           0           0              4.0    0.111167   \n",
       "29871                1           1           0              3.0    0.000000   \n",
       "22980                1           1           0              3.0    0.135871   \n",
       "25334                0           0           0              2.0    0.098007   \n",
       "...                ...         ...         ...              ...         ...   \n",
       "18197                1           0           0              3.0    0.444668   \n",
       "30391                0           0           0              3.0    0.444668   \n",
       "8383                 0           0           0              1.0    0.000000   \n",
       "21665                1           1           0              2.0    0.000000   \n",
       "18421                0           0           0              2.0    0.444668   \n",
       "\n",
       "       HAS_OVERDUE  CREDIT_HIST_LEN  INCOME_GROUP  \n",
       "33733            1               61             4  \n",
       "11015            1               61             4  \n",
       "29871            0               61             3  \n",
       "22980            1               61             3  \n",
       "25334            1               61             4  \n",
       "...            ...              ...           ...  \n",
       "18197            1                1             6  \n",
       "30391            1                1             5  \n",
       "8383             0                1             4  \n",
       "21665            0                1             3  \n",
       "18421            1                1             5  \n",
       "\n",
       "[9251 rows x 20 columns]"
      ]
     },
     "execution_count": 379,
     "metadata": {},
     "output_type": "execute_result"
    }
   ],
   "source": [
    "# Represents interval between each income group \n",
    "# e.g. 50000 means the groups are: <50k, 50k-100k, 100k-150k and so on\n",
    "\n",
    "INCOME_GROUP_INTERVAL = 50000\n",
    "#Define the income for highest income group e.g. 400000 means >400k\n",
    "INCOME_GROUP_HIGHEST = 400000\n",
    "\n",
    "apps_merged[\"INCOME_GROUP\"] = ((apps_merged[\"AMT_INCOME_TOTAL\"] // INCOME_GROUP_INTERVAL) + 1).astype(int)\n",
    "apps_merged.loc[apps_merged[\"AMT_INCOME_TOTAL\"] > 50000]"
   ]
  },
  {
   "cell_type": "code",
   "execution_count": 362,
   "id": "76d9916f",
   "metadata": {
    "scrolled": false
   },
   "outputs": [
    {
     "name": "stdout",
     "output_type": "stream",
     "text": [
      "<class 'pandas.core.frame.DataFrame'>\n",
      "Int64Index: 9353 entries, 33733 to 18421\n",
      "Data columns (total 19 columns):\n",
      " #   Column               Non-Null Count  Dtype  \n",
      "---  ------               --------------  -----  \n",
      " 0   ID                   9353 non-null   int64  \n",
      " 1   CODE_GENDER          9353 non-null   object \n",
      " 2   FLAG_OWN_CAR         9353 non-null   object \n",
      " 3   FLAG_OWN_REALTY      9353 non-null   object \n",
      " 4   CNT_CHILDREN         9353 non-null   int64  \n",
      " 5   AMT_INCOME_TOTAL     9353 non-null   float64\n",
      " 6   NAME_INCOME_TYPE     9353 non-null   object \n",
      " 7   NAME_EDUCATION_TYPE  9353 non-null   object \n",
      " 8   NAME_FAMILY_STATUS   9353 non-null   object \n",
      " 9   NAME_HOUSING_TYPE    9353 non-null   object \n",
      " 10  DAYS_BIRTH           9353 non-null   int64  \n",
      " 11  FLAG_MOBIL           9353 non-null   int64  \n",
      " 12  FLAG_WORK_PHONE      9353 non-null   int64  \n",
      " 13  FLAG_PHONE           9353 non-null   int64  \n",
      " 14  FLAG_EMAIL           9353 non-null   int64  \n",
      " 15  CNT_FAM_MEMBERS      9353 non-null   float64\n",
      " 16  RISK_SCORE           9353 non-null   float64\n",
      " 17  HAS_OVERDUE          9353 non-null   int32  \n",
      " 18  CREDIT_HIST_LEN      9353 non-null   int64  \n",
      "dtypes: float64(3), int32(1), int64(8), object(7)\n",
      "memory usage: 1.4+ MB\n"
     ]
    }
   ],
   "source": [
    "apps_merged.info()"
   ]
  },
  {
   "cell_type": "code",
   "execution_count": 363,
   "id": "46242a3c",
   "metadata": {
    "scrolled": true
   },
   "outputs": [
    {
     "data": {
      "text/plain": [
       "1    8327\n",
       "0    1026\n",
       "Name: HAS_OVERDUE, dtype: int64"
      ]
     },
     "execution_count": 363,
     "metadata": {},
     "output_type": "execute_result"
    }
   ],
   "source": [
    "apps_merged[\"HAS_OVERDUE\"].value_counts()"
   ]
  },
  {
   "cell_type": "markdown",
   "id": "55e4ca09",
   "metadata": {},
   "source": [
    "## 5. Data visualisation"
   ]
  },
  {
   "cell_type": "markdown",
   "id": "74f3e64e",
   "metadata": {},
   "source": [
    "### Distributions of variables"
   ]
  },
  {
   "cell_type": "markdown",
   "id": "a3b39e4b",
   "metadata": {},
   "source": [
    "#### Genders"
   ]
  },
  {
   "cell_type": "code",
   "execution_count": 364,
   "id": "fdb9270d",
   "metadata": {},
   "outputs": [
    {
     "data": {
      "image/png": "[encoded data removed]",
      "text/plain": [
       "<Figure size 648x648 with 1 Axes>"
      ]
     },
     "metadata": {},
     "output_type": "display_data"
    }
   ],
   "source": [
    "gender_counts = apps_merged[\"CODE_GENDER\"].value_counts()\n",
    "plt.figure(figsize=(9,9))\n",
    "plt.pie(gender_counts, \n",
    "        labels=[\"F\", \"M\"],\n",
    "        autopct= lambda x: f\"{int(((x/100)*gender_counts.sum()).round())}\",\n",
    "        colors=[\"c\", \"#ffa600\"],\n",
    "        textprops={'fontsize': 26}\n",
    "       )\n",
    "plt.title(\"Gender of applicants\",\n",
    "          fontdict={\"fontsize\": 32}\n",
    "         )\n",
    "\n",
    "plt.show()"
   ]
  },
  {
   "cell_type": "markdown",
   "id": "a8eb1638",
   "metadata": {},
   "source": [
    "#### Income levels"
   ]
  },
  {
   "cell_type": "code",
   "execution_count": 365,
   "id": "96589758",
   "metadata": {},
   "outputs": [
    {
     "data": {
      "image/png": "[encoded data removed]",
      "text/plain": [
       "<Figure size 1080x432 with 1 Axes>"
      ]
     },
     "metadata": {
      "needs_background": "light"
     },
     "output_type": "display_data"
    }
   ],
   "source": [
    "plt.figure(figsize=(15,6))\n",
    "plt.boxplot(apps_merged[\"AMT_INCOME_TOTAL\"], vert=False)\n",
    "plt.title(\"Income levels\",\n",
    "          fontdict={\"fontsize\":18}\n",
    "         )\n",
    "\n",
    "plt.show()"
   ]
  },
  {
   "cell_type": "markdown",
   "id": "a23092f6",
   "metadata": {},
   "source": [
    "Define income groups"
   ]
  },
  {
   "cell_type": "code",
   "execution_count": 366,
   "id": "142dd25c",
   "metadata": {},
   "outputs": [
    {
     "name": "stdout",
     "output_type": "stream",
     "text": [
      "[50000, 100000, 150000, 200000, 250000, 300000, 350000, 400000]\n"
     ]
    }
   ],
   "source": [
    "# Represents interval between each income group \n",
    "# e.g. 50000 means the groups are: <50k, 50k-100k, 100k-150k and so on\n",
    "\n",
    "INCOME_GROUP_INTERVAL = 50000\n",
    "#Define the income for highest income group e.g. 400000 means >400k\n",
    "INCOME_GROUP_HIGHEST = 400000\n",
    "\n",
    "\n",
    "# Define income groups. Numbers represent upper limit \n",
    "# e.g. 150000 means < 150000 and > 100000 (the previous number in the list)\n",
    "income_groups = []\n",
    "income_group_cutoff = INCOME_GROUP_INTERVAL\n",
    "while income_group_cutoff < INCOME_GROUP_HIGHEST:\n",
    "    income_groups.append(income_group_cutoff)\n",
    "    income_group_cutoff += INCOME_GROUP_INTERVAL\n",
    "income_groups.append(income_group_cutoff)\n",
    "\n",
    "print(income_groups)"
   ]
  },
  {
   "cell_type": "code",
   "execution_count": 367,
   "id": "7e23dd05",
   "metadata": {},
   "outputs": [
    {
     "data": {
      "text/plain": [
       "<matplotlib.collections.PathCollection at 0x18882261d00>"
      ]
     },
     "execution_count": 367,
     "metadata": {},
     "output_type": "execute_result"
    },
    {
     "data": {
      "image/png": "[encoded data removed]",
      "text/plain": [
       "<Figure size 432x288 with 1 Axes>"
      ]
     },
     "metadata": {
      "needs_background": "light"
     },
     "output_type": "display_data"
    }
   ],
   "source": [
    "plt.scatter(apps_merged[\"RISK_SCORE\"], apps_merged[\"CNT_CHILDREN\"])"
   ]
  },
  {
   "cell_type": "code",
   "execution_count": 377,
   "id": "bd0c9d56",
   "metadata": {},
   "outputs": [
    {
     "data": {
      "text/plain": [
       "<matplotlib.collections.PathCollection at 0x1889310a6a0>"
      ]
     },
     "execution_count": 377,
     "metadata": {},
     "output_type": "execute_result"
    },
    {
     "data": {
      "image/png": "[encoded data removed]",
      "text/plain": [
       "<Figure size 432x288 with 1 Axes>"
      ]
     },
     "metadata": {
      "needs_background": "light"
     },
     "output_type": "display_data"
    }
   ],
   "source": [
    "plt.scatter(apps_merged[\"RISK_SCORE\"], apps_merged[\"AMT_INCOME_TOTAL\"])"
   ]
  },
  {
   "cell_type": "code",
   "execution_count": 369,
   "id": "3a7079db",
   "metadata": {},
   "outputs": [
    {
     "data": {
      "text/plain": [
       "(array([ 28., 239., 327., 772., 673., 437., 353.,  87., 170., 113.]),\n",
       " array([ 30150.,  64935.,  99720., 134505., 169290., 204075., 238860.,\n",
       "        273645., 308430., 343215., 378000.]),\n",
       " <BarContainer object of 10 artists>)"
      ]
     },
     "execution_count": 369,
     "metadata": {},
     "output_type": "execute_result"
    },
    {
     "data": {
      "image/png": "[encoded data removed]",
      "text/plain": [
       "<Figure size 432x288 with 1 Axes>"
      ]
     },
     "metadata": {
      "needs_background": "light"
     },
     "output_type": "display_data"
    }
   ],
   "source": [
    "plt.hist(apps_merged.loc[apps_merged[\"CODE_GENDER\"]==\"M\", \"AMT_INCOME_TOTAL\"])"
   ]
  },
  {
   "cell_type": "code",
   "execution_count": 370,
   "id": "b9192917",
   "metadata": {},
   "outputs": [
    {
     "data": {
      "text/plain": [
       "(array([ 168., 1020., 1159., 1538.,  695.,  816.,  197.,  303.,  166.,\n",
       "          92.]),\n",
       " array([ 27000.,  61650.,  96300., 130950., 165600., 200250., 234900.,\n",
       "        269550., 304200., 338850., 373500.]),\n",
       " <BarContainer object of 10 artists>)"
      ]
     },
     "execution_count": 370,
     "metadata": {},
     "output_type": "execute_result"
    },
    {
     "data": {
      "image/png": "[encoded data removed]",
      "text/plain": [
       "<Figure size 432x288 with 1 Axes>"
      ]
     },
     "metadata": {
      "needs_background": "light"
     },
     "output_type": "display_data"
    }
   ],
   "source": [
    "plt.hist(apps_merged.loc[apps_merged[\"CODE_GENDER\"]==\"F\", \"AMT_INCOME_TOTAL\"])"
   ]
  },
  {
   "cell_type": "markdown",
   "id": "9a367254",
   "metadata": {},
   "source": [
    "Calculate average risk score for each income group"
   ]
  },
  {
   "cell_type": "code",
   "execution_count": 389,
   "id": "9d541857",
   "metadata": {},
   "outputs": [
    {
     "name": "stdout",
     "output_type": "stream",
     "text": [
      "[1 2 3 4 5 6 7 8]\n",
      "{1: 0.20664792770243, 2: 0.23822883227709205, 3: 0.22475317232377937, 4: 0.2357629942911663, 5: 0.22676461953780447, 6: 0.2480204384093822, 7: 0.2485192210095723, 8: 0.20002757275817745}\n"
     ]
    }
   ],
   "source": [
    "avg_risk_scores = {}\n",
    "income_groups = apps_merged[\"INCOME_GROUP\"].unique()\n",
    "income_groups.sort()\n",
    "print(income_groups)\n",
    "\n",
    "for grp in income_groups:\n",
    "    avg_risk_scores[grp] = apps_merged.loc[apps_merged[\"INCOME_GROUP\"] == grp, \"RISK_SCORE\"].mean()\n",
    "    \n",
    "print(avg_risk_scores)"
   ]
  },
  {
   "cell_type": "code",
   "execution_count": 390,
   "id": "7ac167cf",
   "metadata": {},
   "outputs": [
    {
     "data": {
      "text/plain": [
       "3    2757\n",
       "4    2082\n",
       "5    1723\n",
       "2    1443\n",
       "6     693\n",
       "7     351\n",
       "8     202\n",
       "1     102\n",
       "Name: INCOME_GROUP, dtype: int64"
      ]
     },
     "execution_count": 390,
     "metadata": {},
     "output_type": "execute_result"
    }
   ],
   "source": [
    "apps_merged[\"INCOME_GROUP\"].value_counts()"
   ]
  },
  {
   "cell_type": "code",
   "execution_count": null,
   "id": "268dcf15",
   "metadata": {},
   "outputs": [],
   "source": []
  },
  {
   "cell_type": "code",
   "execution_count": null,
   "id": "14bff408",
   "metadata": {},
   "outputs": [],
   "source": []
  },
  {
   "cell_type": "code",
   "execution_count": null,
   "id": "4fdba3f0",
   "metadata": {},
   "outputs": [],
   "source": []
  },
  {
   "cell_type": "code",
   "execution_count": null,
   "id": "d416a105",
   "metadata": {},
   "outputs": [],
   "source": []
  }
 ],
 "metadata": {
  "kernelspec": {
   "display_name": "Python 3 (ipykernel)",
   "language": "python",
   "name": "python3"
  },
  "language_info": {
   "codemirror_mode": {
    "name": "ipython",
    "version": 3
   },
   "file_extension": ".py",
   "mimetype": "text/x-python",
   "name": "python",
   "nbconvert_exporter": "python",
   "pygments_lexer": "ipython3",
   "version": "3.9.7"
  }
 },
 "nbformat": 4,
 "nbformat_minor": 5
}
